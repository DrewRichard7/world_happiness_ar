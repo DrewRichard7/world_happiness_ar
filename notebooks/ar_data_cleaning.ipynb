{
 "cells": [
  {
   "cell_type": "markdown",
   "metadata": {},
   "source": [
    "# For cleaning the data to export into one .csv for use in R Shiny app"
   ]
  },
  {
   "cell_type": "code",
   "execution_count": 4,
   "metadata": {},
   "outputs": [],
   "source": [
    "import pandas as pd \n",
    "import numpy as np\n",
    "import matplotlib.pyplot as plt\n",
    "import plotly.express as px\n",
    "import statsmodels.api as sm\n",
    "import statsmodels.formula.api as smf "
   ]
  },
  {
   "cell_type": "code",
   "execution_count": 5,
   "metadata": {},
   "outputs": [],
   "source": [
    "happiness = pd.read_csv('../data/hapiscore_whr.csv') # happiness score\n",
    "fish = pd.read_csv('../data/fisfod_cons_pc.csv') # fish consumption per capita\n",
    "sugar = pd.read_csv('../data/sugar_per_person_g_per_day.csv') # g per day\n",
    "continents = pd.read_csv('../data/continents.csv') \n",
    "disorders = pd.read_csv('../data/depressive_anxiety_IHME.csv') # depressive and anxiety disorders"
   ]
  },
  {
   "cell_type": "code",
   "execution_count": 6,
   "metadata": {},
   "outputs": [],
   "source": [
    "# Dict for keeping names consistent across sets\n",
    "name_changes = (\n",
    "    {'Hong Kong SAR, China':'Hong Kong',\n",
    "     'Macao SAR, China':'Macao',\n",
    "     'Korea, Rep.':'South Korea',\n",
    "     'Korea, Dem. Rep.':'North Korea',\n",
    "     'Czechia':'Czech Republic',\n",
    "     'Slovak Republic':'Slovakia',\n",
    "     'Kyrgyz Republic':'Kyrgyzstan',\n",
    "     'Moldova, Republic of':'Moldova',\n",
    "     'Tanzania, United Republic of':'Tanzania',\n",
    "     'United Republic of Tanzania':'Tanzania',\n",
    "     'UK':'United Kingdom',\n",
    "     'USA':'United States',\n",
    "     'United States of America':'United States',\n",
    "     'Russian Federation':'Russia',\n",
    "     'Congo, Dem. Rep.':'Democratic Republic of the Congo',\n",
    "     'Congo, Rep.':'Congo',\n",
    "     'Lao PDR':'Laos',\n",
    "     \"Lao People's Democratic Republic\":'Laos',\n",
    "     'Bahamas, The':'Bahamas',\n",
    "     'Brunei Darussalam':'Brunei',\n",
    "     'Congo (Democratic Republic of the)': 'Democratic Republic of the Congo',\n",
    "     \"Cote d'Ivoire\": \"Ivory Coast\",\n",
    "     'Gambia, The': 'Gambia',\n",
    "     'The Gambia': 'Gambia',\n",
    "     'Iran, Islamic Rep.': 'Iran',\n",
    "     'Iran (Islamic Republic of)':'Iran',\n",
    "     \"Korea, Dem. People's Rep.\": 'North Korea',\n",
    "     \"Democratic People's Republic of Korea\": 'North Korea',\n",
    "     'Micronesia, Fed. Sts.': 'Micronesia',\n",
    "     'Turkey':'Turkiye',\n",
    "     'Turks and Caicos Islands':'Turks and Caicos',\n",
    "     'Syrian Arab Republic':'Syria',\n",
    "     'Venezuela, RB':'Venezuela',\n",
    "     'Venezuela (Bolivarian Republic of)':'Venezuela',\n",
    "     'Viet Nam':'Vietnam',\n",
    "     'Yemen, Rep.':'Yemen',\n",
    "     'Curacao':'Curaçao',\n",
    "     'Burma (Myanmar)': 'Myanmar',\n",
    "     'Dem. Rep. Congo': 'Democratic Republic of the Congo',\n",
    "     'Korea, North': 'North Korea',\n",
    "     'Korea, South': 'South Korea',\n",
    "     \"Republic of Korea\": 'South Korea',\n",
    "     'Sint Maarten (Dutch part)': 'Sint Maarten',\n",
    "     'St. Martin (French part)': 'Sint Maarten',\n",
    "     'Swaziland': 'Eswatini',\n",
    "     'Bahamas, The': 'Bahamas',\n",
    "     'The Bahamas': 'Bahamas',\n",
    "     'Egypt, Arab Rep.': 'Egypt',\n",
    "     \"Bolivia (Plurinational State of)\": 'Bolivia',\n",
    "     \"Republic of Moldova\": 'Moldova',\n",
    "     \"American Samoa\": 'Samoa',\n",
    "     \n",
    "     }\n",
    ")"
   ]
  },
  {
   "cell_type": "code",
   "execution_count": 7,
   "metadata": {},
   "outputs": [],
   "source": [
    "# melt happiness from wide to long\n",
    "happiness_long = happiness.melt(id_vars=['country'], var_name='year', value_name='happiness_score')\n",
    "happiness_long['year'] = pd.to_numeric(happiness_long['year'])\n",
    "happiness_long['country'] = happiness_long['country'].replace(name_changes)\n",
    "\n",
    "fish_long = fish.melt(id_vars=['country'], var_name='year', value_name='pcp_fish_consumption')\n",
    "fish_long['year'] = pd.to_numeric(fish_long['year'])\n",
    "fish_long['country'] = fish_long['country'].replace(name_changes)\n",
    "\n",
    "sugar_long = sugar.melt(id_vars=['country'], var_name='year', value_name='sugar_per_cap')\n",
    "sugar_long['year'] = pd.to_numeric(sugar_long['year'])\n",
    "sugar_long['country'] = sugar_long['country'].replace(name_changes)\n",
    "\n",
    "disorders_long = disorders[['location', 'cause', 'year', 'val']].rename(columns={'location':'country', 'cause':'disorder', 'val':'pct_new_per_pop'}).replace(name_changes)\n",
    "disorders_long['year'] = pd.to_numeric(disorders_long['year'])\n",
    "disorders_long['country'] = disorders_long['country'].replace(name_changes)\n"
   ]
  },
  {
   "cell_type": "code",
   "execution_count": 8,
   "metadata": {},
   "outputs": [],
   "source": [
    "# merge dfs on country and year\n",
    "happy_fish = pd.merge(happiness_long, fish_long, on=['country', 'year'], how='inner').dropna()\n",
    "happy_sugar_fish = pd.merge(happy_fish, sugar_long, on=['country', 'year'], how='inner').dropna()\n",
    "\n"
   ]
  }
 ],
 "metadata": {
  "kernelspec": {
   "display_name": "base",
   "language": "python",
   "name": "python3"
  },
  "language_info": {
   "codemirror_mode": {
    "name": "ipython",
    "version": 3
   },
   "file_extension": ".py",
   "mimetype": "text/x-python",
   "name": "python",
   "nbconvert_exporter": "python",
   "pygments_lexer": "ipython3",
   "version": "3.12.4"
  }
 },
 "nbformat": 4,
 "nbformat_minor": 2
}
