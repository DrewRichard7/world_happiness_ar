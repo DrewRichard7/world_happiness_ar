{
 "cells": [
  {
   "cell_type": "markdown",
   "metadata": {},
   "source": [
    "# For cleaning the data to export into one .csv for use in R Shiny app"
   ]
  },
  {
   "cell_type": "code",
   "execution_count": 1,
   "metadata": {},
   "outputs": [],
   "source": [
    "import pandas as pd \n",
    "import numpy as np\n",
    "import matplotlib.pyplot as plt\n",
    "import plotly.express as px\n",
    "import statsmodels.api as sm\n",
    "import statsmodels.formula.api as smf "
   ]
  },
  {
   "cell_type": "markdown",
   "metadata": {},
   "source": [
    "#### import data"
   ]
  },
  {
   "cell_type": "code",
   "execution_count": 2,
   "metadata": {},
   "outputs": [],
   "source": [
    "happiness = pd.read_csv('../data/hapiscore_whr.csv') # happiness score\n",
    "fish = pd.read_csv('../data/fisfod_cons_pc.csv') # fish consumption per capita\n",
    "sugar = pd.read_csv('../data/sugar_per_person_g_per_day.csv') # g per day\n",
    "continents = pd.read_csv('../data/continents.csv') \n",
    "disorders = pd.read_csv('../data/depressive_anxiety_IHME.csv') # depressive and anxiety disorders"
   ]
  },
  {
   "cell_type": "markdown",
   "metadata": {},
   "source": [
    "#### many countries have different ways they're referred to in the datasets, dict to use for renaming to common convention"
   ]
  },
  {
   "cell_type": "code",
   "execution_count": 3,
   "metadata": {},
   "outputs": [],
   "source": [
    "# Dict for keeping names consistent across sets\n",
    "name_changes = (\n",
    "    {'Hong Kong SAR, China':'Hong Kong',\n",
    "     'Macao SAR, China':'Macao',\n",
    "     'Korea, Rep.':'South Korea',\n",
    "     'Korea, Dem. Rep.':'North Korea',\n",
    "     'Czechia':'Czech Republic',\n",
    "     'Slovak Republic':'Slovakia',\n",
    "     'Kyrgyz Republic':'Kyrgyzstan',\n",
    "     'Moldova, Republic of':'Moldova',\n",
    "     'Tanzania, United Republic of':'Tanzania',\n",
    "     'United Republic of Tanzania':'Tanzania',\n",
    "     'UK':'United Kingdom',\n",
    "     'USA':'United States',\n",
    "     'United States of America':'United States',\n",
    "     'Russian Federation':'Russia',\n",
    "     'Congo, Dem. Rep.':'Democratic Republic of the Congo',\n",
    "     'Congo, Rep.':'Congo',\n",
    "     'Lao PDR':'Laos',\n",
    "     \"Lao People's Democratic Republic\":'Laos',\n",
    "     'Bahamas, The':'Bahamas',\n",
    "     'Brunei Darussalam':'Brunei',\n",
    "     'Congo (Democratic Republic of the)': 'Democratic Republic of the Congo',\n",
    "     \"Cote d'Ivoire\": \"Ivory Coast\",\n",
    "     \"Côte d'Ivoire\": \"Ivory Coast\",\n",
    "     'Gambia, The': 'Gambia',\n",
    "     'The Gambia': 'Gambia',\n",
    "     'Iran, Islamic Rep.': 'Iran',\n",
    "     'Iran (Islamic Republic of)':'Iran',\n",
    "     \"Korea, Dem. People's Rep.\": 'North Korea',\n",
    "     \"Democratic People's Republic of Korea\": 'North Korea',\n",
    "     'Micronesia, Fed. Sts.': 'Micronesia',\n",
    "     'Turkey':'Turkiye',\n",
    "     'Turks and Caicos Islands':'Turks and Caicos',\n",
    "     'Syrian Arab Republic':'Syria',\n",
    "     'Venezuela, RB':'Venezuela',\n",
    "     'Venezuela (Bolivarian Republic of)':'Venezuela',\n",
    "     'Viet Nam':'Vietnam',\n",
    "     'Yemen, Rep.':'Yemen',\n",
    "     'Curacao':'Curaçao',\n",
    "     'Burma (Myanmar)': 'Myanmar',\n",
    "     'Dem. Rep. Congo': 'Democratic Republic of the Congo',\n",
    "     'Korea, North': 'North Korea',\n",
    "     'Korea, South': 'South Korea',\n",
    "     \"Republic of Korea\": 'South Korea',\n",
    "     'Sint Maarten (Dutch part)': 'Sint Maarten',\n",
    "     'St. Martin (French part)': 'Sint Maarten',\n",
    "     'Swaziland': 'Eswatini',\n",
    "     'Bahamas, The': 'Bahamas',\n",
    "     'The Bahamas': 'Bahamas',\n",
    "     'Egypt, Arab Rep.': 'Egypt',\n",
    "     \"Bolivia (Plurinational State of)\": 'Bolivia',\n",
    "     \"Republic of Moldova\": 'Moldova',\n",
    "     \"American Samoa\": 'Samoa',\n",
    "     \"Lao\": 'Laos',\n",
    "     'Taiwan (Province of China)': 'Taiwan',\n",
    "     'Türkiye':'Turkiye',\n",
    "     'UAE': 'United Arab Emirates',\n",
    "     }\n",
    ")"
   ]
  },
  {
   "cell_type": "markdown",
   "metadata": {},
   "source": [
    "## Cleaning and organizing data to create .csv for export to R"
   ]
  },
  {
   "cell_type": "code",
   "execution_count": 4,
   "metadata": {},
   "outputs": [],
   "source": [
    "# melt happiness from wide to long\n",
    "happiness_long = happiness.melt(id_vars=['country'], var_name='year', value_name='happiness_score')\n",
    "happiness_long['year'] = pd.to_numeric(happiness_long['year'])\n",
    "happiness_long['country'] = happiness_long['country'].replace(name_changes)\n",
    "\n",
    "fish_long = fish.melt(id_vars=['country'], var_name='year', value_name='pcp_fish_consumption')\n",
    "fish_long['year'] = pd.to_numeric(fish_long['year'])\n",
    "fish_long['country'] = fish_long['country'].replace(name_changes)\n",
    "\n",
    "sugar_long = sugar.melt(id_vars=['country'], var_name='year', value_name='sugar_per_cap')\n",
    "sugar_long['year'] = pd.to_numeric(sugar_long['year'])\n",
    "sugar_long['country'] = sugar_long['country'].replace(name_changes)\n",
    "\n",
    "disorders_long = disorders[['location', 'cause', 'year', 'val']].rename(columns={'location':'country', 'cause':'disorder', 'val':'pct_new_per_pop'}).replace(name_changes)\n",
    "disorders_long['year'] = pd.to_numeric(disorders_long['year'])\n",
    "disorders_long['country'] = disorders_long['country'].replace(name_changes)\n",
    "# combine depressive disorders and anxiety disorders into one column \n",
    "disorders_long = disorders_long.groupby(['country', 'year']).sum().reset_index()\n",
    "disorders_long = disorders_long.rename(columns={'pct_new_per_pop':'pct_new_per_pop_disorders'})[['country', 'year', 'pct_new_per_pop_disorders']]\n"
   ]
  },
  {
   "cell_type": "code",
   "execution_count": 5,
   "metadata": {},
   "outputs": [
    {
     "data": {
      "text/html": [
       "<div>\n",
       "<style scoped>\n",
       "    .dataframe tbody tr th:only-of-type {\n",
       "        vertical-align: middle;\n",
       "    }\n",
       "\n",
       "    .dataframe tbody tr th {\n",
       "        vertical-align: top;\n",
       "    }\n",
       "\n",
       "    .dataframe thead th {\n",
       "        text-align: right;\n",
       "    }\n",
       "</style>\n",
       "<table border=\"1\" class=\"dataframe\">\n",
       "  <thead>\n",
       "    <tr style=\"text-align: right;\">\n",
       "      <th></th>\n",
       "      <th>country</th>\n",
       "      <th>year</th>\n",
       "      <th>pct_new_per_pop_disorders</th>\n",
       "    </tr>\n",
       "  </thead>\n",
       "  <tbody>\n",
       "    <tr>\n",
       "      <th>0</th>\n",
       "      <td>Afghanistan</td>\n",
       "      <td>1990</td>\n",
       "      <td>0.013309</td>\n",
       "    </tr>\n",
       "    <tr>\n",
       "      <th>1</th>\n",
       "      <td>Afghanistan</td>\n",
       "      <td>1991</td>\n",
       "      <td>0.013174</td>\n",
       "    </tr>\n",
       "    <tr>\n",
       "      <th>2</th>\n",
       "      <td>Afghanistan</td>\n",
       "      <td>1992</td>\n",
       "      <td>0.013054</td>\n",
       "    </tr>\n",
       "    <tr>\n",
       "      <th>3</th>\n",
       "      <td>Afghanistan</td>\n",
       "      <td>1993</td>\n",
       "      <td>0.012866</td>\n",
       "    </tr>\n",
       "    <tr>\n",
       "      <th>4</th>\n",
       "      <td>Afghanistan</td>\n",
       "      <td>1994</td>\n",
       "      <td>0.012437</td>\n",
       "    </tr>\n",
       "    <tr>\n",
       "      <th>...</th>\n",
       "      <td>...</td>\n",
       "      <td>...</td>\n",
       "      <td>...</td>\n",
       "    </tr>\n",
       "    <tr>\n",
       "      <th>6491</th>\n",
       "      <td>Zimbabwe</td>\n",
       "      <td>2017</td>\n",
       "      <td>0.005582</td>\n",
       "    </tr>\n",
       "    <tr>\n",
       "      <th>6492</th>\n",
       "      <td>Zimbabwe</td>\n",
       "      <td>2018</td>\n",
       "      <td>0.005676</td>\n",
       "    </tr>\n",
       "    <tr>\n",
       "      <th>6493</th>\n",
       "      <td>Zimbabwe</td>\n",
       "      <td>2019</td>\n",
       "      <td>0.005708</td>\n",
       "    </tr>\n",
       "    <tr>\n",
       "      <th>6494</th>\n",
       "      <td>Zimbabwe</td>\n",
       "      <td>2020</td>\n",
       "      <td>0.006104</td>\n",
       "    </tr>\n",
       "    <tr>\n",
       "      <th>6495</th>\n",
       "      <td>Zimbabwe</td>\n",
       "      <td>2021</td>\n",
       "      <td>0.006367</td>\n",
       "    </tr>\n",
       "  </tbody>\n",
       "</table>\n",
       "<p>6496 rows × 3 columns</p>\n",
       "</div>"
      ],
      "text/plain": [
       "          country  year  pct_new_per_pop_disorders\n",
       "0     Afghanistan  1990                   0.013309\n",
       "1     Afghanistan  1991                   0.013174\n",
       "2     Afghanistan  1992                   0.013054\n",
       "3     Afghanistan  1993                   0.012866\n",
       "4     Afghanistan  1994                   0.012437\n",
       "...           ...   ...                        ...\n",
       "6491     Zimbabwe  2017                   0.005582\n",
       "6492     Zimbabwe  2018                   0.005676\n",
       "6493     Zimbabwe  2019                   0.005708\n",
       "6494     Zimbabwe  2020                   0.006104\n",
       "6495     Zimbabwe  2021                   0.006367\n",
       "\n",
       "[6496 rows x 3 columns]"
      ]
     },
     "execution_count": 5,
     "metadata": {},
     "output_type": "execute_result"
    }
   ],
   "source": [
    "disorders_long"
   ]
  },
  {
   "cell_type": "code",
   "execution_count": 6,
   "metadata": {},
   "outputs": [
    {
     "data": {
      "text/html": [
       "<div>\n",
       "<style scoped>\n",
       "    .dataframe tbody tr th:only-of-type {\n",
       "        vertical-align: middle;\n",
       "    }\n",
       "\n",
       "    .dataframe tbody tr th {\n",
       "        vertical-align: top;\n",
       "    }\n",
       "\n",
       "    .dataframe thead th {\n",
       "        text-align: right;\n",
       "    }\n",
       "</style>\n",
       "<table border=\"1\" class=\"dataframe\">\n",
       "  <thead>\n",
       "    <tr style=\"text-align: right;\">\n",
       "      <th></th>\n",
       "      <th>country</th>\n",
       "      <th>year</th>\n",
       "      <th>happiness_score</th>\n",
       "      <th>fish_kg_per_person_per_year</th>\n",
       "      <th>sugar_g_per_person_per_day</th>\n",
       "      <th>pct_new_per_pop_disorders</th>\n",
       "    </tr>\n",
       "  </thead>\n",
       "  <tbody>\n",
       "    <tr>\n",
       "      <th>0</th>\n",
       "      <td>Australia</td>\n",
       "      <td>2005</td>\n",
       "      <td>73.4</td>\n",
       "      <td>25.30</td>\n",
       "      <td>128.0</td>\n",
       "      <td>0.015860</td>\n",
       "    </tr>\n",
       "    <tr>\n",
       "      <th>1</th>\n",
       "      <td>Belgium</td>\n",
       "      <td>2005</td>\n",
       "      <td>72.6</td>\n",
       "      <td>24.40</td>\n",
       "      <td>146.0</td>\n",
       "      <td>0.011938</td>\n",
       "    </tr>\n",
       "    <tr>\n",
       "      <th>2</th>\n",
       "      <td>Brazil</td>\n",
       "      <td>2005</td>\n",
       "      <td>66.4</td>\n",
       "      <td>6.04</td>\n",
       "      <td>115.0</td>\n",
       "      <td>0.012405</td>\n",
       "    </tr>\n",
       "    <tr>\n",
       "      <th>3</th>\n",
       "      <td>Canada</td>\n",
       "      <td>2005</td>\n",
       "      <td>74.2</td>\n",
       "      <td>23.60</td>\n",
       "      <td>147.0</td>\n",
       "      <td>0.008716</td>\n",
       "    </tr>\n",
       "    <tr>\n",
       "      <th>4</th>\n",
       "      <td>Czech Republic</td>\n",
       "      <td>2005</td>\n",
       "      <td>64.4</td>\n",
       "      <td>10.00</td>\n",
       "      <td>103.0</td>\n",
       "      <td>0.013115</td>\n",
       "    </tr>\n",
       "    <tr>\n",
       "      <th>...</th>\n",
       "      <td>...</td>\n",
       "      <td>...</td>\n",
       "      <td>...</td>\n",
       "      <td>...</td>\n",
       "      <td>...</td>\n",
       "      <td>...</td>\n",
       "    </tr>\n",
       "    <tr>\n",
       "      <th>1595</th>\n",
       "      <td>Vietnam</td>\n",
       "      <td>2018</td>\n",
       "      <td>53.0</td>\n",
       "      <td>37.30</td>\n",
       "      <td>33.7</td>\n",
       "      <td>0.005701</td>\n",
       "    </tr>\n",
       "    <tr>\n",
       "      <th>1596</th>\n",
       "      <td>Yemen</td>\n",
       "      <td>2018</td>\n",
       "      <td>30.6</td>\n",
       "      <td>3.10</td>\n",
       "      <td>82.4</td>\n",
       "      <td>0.012322</td>\n",
       "    </tr>\n",
       "    <tr>\n",
       "      <th>1597</th>\n",
       "      <td>South Africa</td>\n",
       "      <td>2018</td>\n",
       "      <td>48.8</td>\n",
       "      <td>6.35</td>\n",
       "      <td>113.0</td>\n",
       "      <td>0.008865</td>\n",
       "    </tr>\n",
       "    <tr>\n",
       "      <th>1598</th>\n",
       "      <td>Zambia</td>\n",
       "      <td>2018</td>\n",
       "      <td>40.4</td>\n",
       "      <td>11.70</td>\n",
       "      <td>31.4</td>\n",
       "      <td>0.006512</td>\n",
       "    </tr>\n",
       "    <tr>\n",
       "      <th>1599</th>\n",
       "      <td>Zimbabwe</td>\n",
       "      <td>2018</td>\n",
       "      <td>36.2</td>\n",
       "      <td>3.47</td>\n",
       "      <td>85.9</td>\n",
       "      <td>0.005676</td>\n",
       "    </tr>\n",
       "  </tbody>\n",
       "</table>\n",
       "<p>1600 rows × 6 columns</p>\n",
       "</div>"
      ],
      "text/plain": [
       "             country  year  happiness_score  fish_kg_per_person_per_year  \\\n",
       "0          Australia  2005             73.4                        25.30   \n",
       "1            Belgium  2005             72.6                        24.40   \n",
       "2             Brazil  2005             66.4                         6.04   \n",
       "3             Canada  2005             74.2                        23.60   \n",
       "4     Czech Republic  2005             64.4                        10.00   \n",
       "...              ...   ...              ...                          ...   \n",
       "1595         Vietnam  2018             53.0                        37.30   \n",
       "1596           Yemen  2018             30.6                         3.10   \n",
       "1597    South Africa  2018             48.8                         6.35   \n",
       "1598          Zambia  2018             40.4                        11.70   \n",
       "1599        Zimbabwe  2018             36.2                         3.47   \n",
       "\n",
       "      sugar_g_per_person_per_day  pct_new_per_pop_disorders  \n",
       "0                          128.0                   0.015860  \n",
       "1                          146.0                   0.011938  \n",
       "2                          115.0                   0.012405  \n",
       "3                          147.0                   0.008716  \n",
       "4                          103.0                   0.013115  \n",
       "...                          ...                        ...  \n",
       "1595                        33.7                   0.005701  \n",
       "1596                        82.4                   0.012322  \n",
       "1597                       113.0                   0.008865  \n",
       "1598                        31.4                   0.006512  \n",
       "1599                        85.9                   0.005676  \n",
       "\n",
       "[1600 rows x 6 columns]"
      ]
     },
     "execution_count": 6,
     "metadata": {},
     "output_type": "execute_result"
    }
   ],
   "source": [
    "# merge dfs on country and year\n",
    "happy_fish = pd.merge(happiness_long, fish_long, on=['country', 'year'], how='inner').dropna()\n",
    "happy_sugar_fish = pd.merge(happy_fish, sugar_long, on=['country', 'year'], how='inner').dropna()\n",
    "happy_sad_sugar_fish = pd.merge(happy_sugar_fish, disorders_long, on=['country', 'year'], how='inner').dropna()\n",
    "happy_sad_sugar_fish = happy_sad_sugar_fish.rename(\n",
    "    columns={'sugar_per_cap':'sugar_g_per_person_per_day',\n",
    "             'pcp_fish_consumption':'fish_kg_per_person_per_year'}\n",
    "             )\n",
    "happy_sad_sugar_fish"
   ]
  },
  {
   "cell_type": "code",
   "execution_count": 7,
   "metadata": {},
   "outputs": [
    {
     "name": "stdout",
     "output_type": "stream",
     "text": [
      "Count of countries in each:\n",
      "\n",
      " (151, 203)\n",
      "\n",
      "\n",
      "in happy_sugar_fish, not in disorders_long:\n",
      "\n",
      " ['Hong Kong, China']\n",
      "\n",
      "\n",
      "in disorders_long, not in happy_sugar_fish:\n",
      "\n",
      " ['Andorra' 'Antigua and Barbuda' 'Bahamas' 'Bahrain' 'Barbados' 'Bermuda'\n",
      " 'Bhutan' 'Brunei' 'Burundi' 'Cabo Verde' 'Comoros' 'Cook Islands'\n",
      " 'Democratic Republic of the Congo' 'Dominica' 'Equatorial Guinea'\n",
      " 'Eritrea' 'Fiji' 'Greenland' 'Grenada' 'Guam' 'Guinea-Bissau' 'Kiribati'\n",
      " 'Libya' 'Marshall Islands' 'Micronesia (Federated States of)' 'Monaco'\n",
      " 'Nauru' 'Niue' 'North Korea' 'Northern Mariana Islands' 'Palau'\n",
      " 'Palestine' 'Papua New Guinea' 'Puerto Rico' 'Qatar'\n",
      " 'Saint Kitts and Nevis' 'Saint Lucia' 'Saint Vincent and the Grenadines'\n",
      " 'Samoa' 'San Marino' 'Sao Tome and Principe' 'Seychelles' 'Singapore'\n",
      " 'Solomon Islands' 'Somalia' 'South Sudan' 'Syria' 'Timor-Leste' 'Tokelau'\n",
      " 'Tonga' 'Tuvalu' 'United States Virgin Islands' 'Vanuatu']\n",
      "\n",
      "\n"
     ]
    }
   ],
   "source": [
    "# see if countries are the same in each df\n",
    "print(f'Count of countries in each:\\n\\n {happy_sugar_fish[\"country\"].nunique(), disorders_long[\"country\"].nunique()}\\n\\n')\n",
    "\n",
    "# see which countries are different - Countries in life_expectancy but not in happy_forest_sugar_fish_merged\n",
    "print(f'in happy_sugar_fish, not in disorders_long:\\n\\n {np.setdiff1d(happy_sugar_fish[\"country\"].unique(), disorders_long[\"country\"].unique())}\\n\\n')\n",
    "\n",
    "# see which countries are different - Countries in continents but not in life_expectancy\n",
    "print(f'in disorders_long, not in happy_sugar_fish:\\n\\n {np.setdiff1d(disorders_long[\"country\"].unique(), happy_sugar_fish[\"country\"].unique())}\\n\\n')"
   ]
  },
  {
   "cell_type": "code",
   "execution_count": 8,
   "metadata": {},
   "outputs": [],
   "source": [
    "happy_sad_sugar_fish.to_csv('../data/happy_sad_sugar_fish.csv', index=False)"
   ]
  },
  {
   "cell_type": "markdown",
   "metadata": {},
   "source": [
    "## Exploration of this data - mostly the newer disorders data"
   ]
  },
  {
   "cell_type": "code",
   "execution_count": 9,
   "metadata": {},
   "outputs": [
    {
     "data": {
      "text/html": [
       "<div>\n",
       "<style scoped>\n",
       "    .dataframe tbody tr th:only-of-type {\n",
       "        vertical-align: middle;\n",
       "    }\n",
       "\n",
       "    .dataframe tbody tr th {\n",
       "        vertical-align: top;\n",
       "    }\n",
       "\n",
       "    .dataframe thead th {\n",
       "        text-align: right;\n",
       "    }\n",
       "</style>\n",
       "<table border=\"1\" class=\"dataframe\">\n",
       "  <thead>\n",
       "    <tr style=\"text-align: right;\">\n",
       "      <th></th>\n",
       "      <th>country</th>\n",
       "      <th>year</th>\n",
       "      <th>happiness_score</th>\n",
       "      <th>fish_kg_per_person_per_year</th>\n",
       "      <th>sugar_g_per_person_per_day</th>\n",
       "      <th>pct_new_per_pop_disorders</th>\n",
       "    </tr>\n",
       "  </thead>\n",
       "  <tbody>\n",
       "    <tr>\n",
       "      <th>0</th>\n",
       "      <td>Australia</td>\n",
       "      <td>2005</td>\n",
       "      <td>73.4</td>\n",
       "      <td>25.30</td>\n",
       "      <td>128.0</td>\n",
       "      <td>0.015860</td>\n",
       "    </tr>\n",
       "    <tr>\n",
       "      <th>1</th>\n",
       "      <td>Belgium</td>\n",
       "      <td>2005</td>\n",
       "      <td>72.6</td>\n",
       "      <td>24.40</td>\n",
       "      <td>146.0</td>\n",
       "      <td>0.011938</td>\n",
       "    </tr>\n",
       "    <tr>\n",
       "      <th>2</th>\n",
       "      <td>Brazil</td>\n",
       "      <td>2005</td>\n",
       "      <td>66.4</td>\n",
       "      <td>6.04</td>\n",
       "      <td>115.0</td>\n",
       "      <td>0.012405</td>\n",
       "    </tr>\n",
       "    <tr>\n",
       "      <th>3</th>\n",
       "      <td>Canada</td>\n",
       "      <td>2005</td>\n",
       "      <td>74.2</td>\n",
       "      <td>23.60</td>\n",
       "      <td>147.0</td>\n",
       "      <td>0.008716</td>\n",
       "    </tr>\n",
       "    <tr>\n",
       "      <th>4</th>\n",
       "      <td>Czech Republic</td>\n",
       "      <td>2005</td>\n",
       "      <td>64.4</td>\n",
       "      <td>10.00</td>\n",
       "      <td>103.0</td>\n",
       "      <td>0.013115</td>\n",
       "    </tr>\n",
       "    <tr>\n",
       "      <th>...</th>\n",
       "      <td>...</td>\n",
       "      <td>...</td>\n",
       "      <td>...</td>\n",
       "      <td>...</td>\n",
       "      <td>...</td>\n",
       "      <td>...</td>\n",
       "    </tr>\n",
       "    <tr>\n",
       "      <th>1595</th>\n",
       "      <td>Vietnam</td>\n",
       "      <td>2018</td>\n",
       "      <td>53.0</td>\n",
       "      <td>37.30</td>\n",
       "      <td>33.7</td>\n",
       "      <td>0.005701</td>\n",
       "    </tr>\n",
       "    <tr>\n",
       "      <th>1596</th>\n",
       "      <td>Yemen</td>\n",
       "      <td>2018</td>\n",
       "      <td>30.6</td>\n",
       "      <td>3.10</td>\n",
       "      <td>82.4</td>\n",
       "      <td>0.012322</td>\n",
       "    </tr>\n",
       "    <tr>\n",
       "      <th>1597</th>\n",
       "      <td>South Africa</td>\n",
       "      <td>2018</td>\n",
       "      <td>48.8</td>\n",
       "      <td>6.35</td>\n",
       "      <td>113.0</td>\n",
       "      <td>0.008865</td>\n",
       "    </tr>\n",
       "    <tr>\n",
       "      <th>1598</th>\n",
       "      <td>Zambia</td>\n",
       "      <td>2018</td>\n",
       "      <td>40.4</td>\n",
       "      <td>11.70</td>\n",
       "      <td>31.4</td>\n",
       "      <td>0.006512</td>\n",
       "    </tr>\n",
       "    <tr>\n",
       "      <th>1599</th>\n",
       "      <td>Zimbabwe</td>\n",
       "      <td>2018</td>\n",
       "      <td>36.2</td>\n",
       "      <td>3.47</td>\n",
       "      <td>85.9</td>\n",
       "      <td>0.005676</td>\n",
       "    </tr>\n",
       "  </tbody>\n",
       "</table>\n",
       "<p>1600 rows × 6 columns</p>\n",
       "</div>"
      ],
      "text/plain": [
       "             country  year  happiness_score  fish_kg_per_person_per_year  \\\n",
       "0          Australia  2005             73.4                        25.30   \n",
       "1            Belgium  2005             72.6                        24.40   \n",
       "2             Brazil  2005             66.4                         6.04   \n",
       "3             Canada  2005             74.2                        23.60   \n",
       "4     Czech Republic  2005             64.4                        10.00   \n",
       "...              ...   ...              ...                          ...   \n",
       "1595         Vietnam  2018             53.0                        37.30   \n",
       "1596           Yemen  2018             30.6                         3.10   \n",
       "1597    South Africa  2018             48.8                         6.35   \n",
       "1598          Zambia  2018             40.4                        11.70   \n",
       "1599        Zimbabwe  2018             36.2                         3.47   \n",
       "\n",
       "      sugar_g_per_person_per_day  pct_new_per_pop_disorders  \n",
       "0                          128.0                   0.015860  \n",
       "1                          146.0                   0.011938  \n",
       "2                          115.0                   0.012405  \n",
       "3                          147.0                   0.008716  \n",
       "4                          103.0                   0.013115  \n",
       "...                          ...                        ...  \n",
       "1595                        33.7                   0.005701  \n",
       "1596                        82.4                   0.012322  \n",
       "1597                       113.0                   0.008865  \n",
       "1598                        31.4                   0.006512  \n",
       "1599                        85.9                   0.005676  \n",
       "\n",
       "[1600 rows x 6 columns]"
      ]
     },
     "execution_count": 9,
     "metadata": {},
     "output_type": "execute_result"
    }
   ],
   "source": [
    "happy_sad_sugar_fish    "
   ]
  },
  {
   "cell_type": "code",
   "execution_count": 10,
   "metadata": {},
   "outputs": [
    {
     "data": {
      "application/vnd.plotly.v1+json": {
       "config": {
        "plotlyServerURL": "https://plot.ly"
       },
       "data": [
        {
         "hovertemplate": "country=Australia<br>year=%{x}<br>pct_new_per_pop_disorders=%{y}<extra></extra>",
         "legendgroup": "Australia",
         "marker": {
          "color": "#636efa",
          "symbol": "circle"
         },
         "mode": "markers",
         "name": "Australia",
         "showlegend": true,
         "type": "scattergl",
         "visible": "legendonly",
         "x": [
          2005,
          2007,
          2008,
          2010,
          2011,
          2012,
          2013,
          2014,
          2015,
          2016,
          2017,
          2018
         ],
         "xaxis": "x",
         "y": [
          0.0158595193063275,
          0.0158123368141027,
          0.015755251738891002,
          0.0156318175649221,
          0.015573009908805,
          0.0155202998859494,
          0.0154638319325686,
          0.0153964796233734,
          0.0153089996574205,
          0.015152184728544101,
          0.014931165522735,
          0.0147153571835088
         ],
         "yaxis": "y"
        },
        {
         "hovertemplate": "country=Belgium<br>year=%{x}<br>pct_new_per_pop_disorders=%{y}<extra></extra>",
         "legendgroup": "Belgium",
         "marker": {
          "color": "#EF553B",
          "symbol": "circle"
         },
         "mode": "markers",
         "name": "Belgium",
         "showlegend": true,
         "type": "scattergl",
         "visible": "legendonly",
         "x": [
          2005,
          2007,
          2008,
          2010,
          2011,
          2012,
          2013,
          2014,
          2015,
          2016,
          2017,
          2018
         ],
         "xaxis": "x",
         "y": [
          0.0119380759041528,
          0.0122835616261329,
          0.0125095409556019,
          0.0127613834854135,
          0.0127446502072972,
          0.0126997992069767,
          0.0126486245880878,
          0.0126146309951846,
          0.0126255113134363,
          0.0127145226814076,
          0.012863243350026098,
          0.013008744104332899
         ],
         "yaxis": "y"
        },
        {
         "hovertemplate": "country=Brazil<br>year=%{x}<br>pct_new_per_pop_disorders=%{y}<extra></extra>",
         "legendgroup": "Brazil",
         "marker": {
          "color": "#00cc96",
          "symbol": "circle"
         },
         "mode": "markers",
         "name": "Brazil",
         "showlegend": true,
         "type": "scattergl",
         "visible": "legendonly",
         "x": [
          2005,
          2007,
          2008,
          2009,
          2010,
          2011,
          2012,
          2013,
          2014,
          2015,
          2016,
          2017,
          2018
         ],
         "xaxis": "x",
         "y": [
          0.012405042307614,
          0.012067422852421399,
          0.0116690292282338,
          0.011298890044759,
          0.011120500028169,
          0.0110696358908571,
          0.0109924175034395,
          0.010912747456465699,
          0.010849292252378401,
          0.0108307250205657,
          0.0108286358787854,
          0.0108822628190044,
          0.010923447074409901
         ],
         "yaxis": "y"
        },
        {
         "hovertemplate": "country=Canada<br>year=%{x}<br>pct_new_per_pop_disorders=%{y}<extra></extra>",
         "legendgroup": "Canada",
         "marker": {
          "color": "#ab63fa",
          "symbol": "circle"
         },
         "mode": "markers",
         "name": "Canada",
         "showlegend": true,
         "type": "scattergl",
         "visible": "legendonly",
         "x": [
          2005,
          2007,
          2008,
          2009,
          2010,
          2011,
          2012,
          2013,
          2014,
          2015,
          2016,
          2017,
          2018
         ],
         "xaxis": "x",
         "y": [
          0.0087160503480161,
          0.0086207264863261,
          0.0086109206340636,
          0.0086142338966847,
          0.0086204219948493,
          0.0086391278571975,
          0.0086798388139183,
          0.0087284741897004,
          0.0087705396644905,
          0.0087919286379227,
          0.008805585918636,
          0.0088393849965387,
          0.008896056731591
         ],
         "yaxis": "y"
        },
        {
         "hovertemplate": "country=Czech Republic<br>year=%{x}<br>pct_new_per_pop_disorders=%{y}<extra></extra>",
         "legendgroup": "Czech Republic",
         "marker": {
          "color": "#FFA15A",
          "symbol": "circle"
         },
         "mode": "markers",
         "name": "Czech Republic",
         "showlegend": true,
         "type": "scattergl",
         "visible": "legendonly",
         "x": [
          2005,
          2007,
          2010,
          2011,
          2012,
          2013,
          2014,
          2015,
          2016,
          2017,
          2018
         ],
         "xaxis": "x",
         "y": [
          0.013115439284187,
          0.012954674872140701,
          0.0127112736552323,
          0.0126809721113679,
          0.0126662807096358,
          0.0126649651194445,
          0.012672901740069499,
          0.0126862102635634,
          0.0127050054577293,
          0.0127353243767428,
          0.0127739523149772
         ],
         "yaxis": "y"
        },
        {
         "hovertemplate": "country=Germany<br>year=%{x}<br>pct_new_per_pop_disorders=%{y}<extra></extra>",
         "legendgroup": "Germany",
         "marker": {
          "color": "#19d3f3",
          "symbol": "circle"
         },
         "mode": "markers",
         "name": "Germany",
         "showlegend": true,
         "type": "scattergl",
         "visible": "legendonly",
         "x": [
          2005,
          2007,
          2008,
          2009,
          2010,
          2011,
          2012,
          2013,
          2014,
          2015,
          2016,
          2017,
          2018
         ],
         "xaxis": "x",
         "y": [
          0.012649793573502101,
          0.0125620997733363,
          0.012500005644933,
          0.0124435260495985,
          0.012412865908769201,
          0.0124726927399568,
          0.012643690458348698,
          0.012860510263943801,
          0.013058927932968001,
          0.0131823945506443,
          0.013226353949506,
          0.013236826242261999,
          0.0132054169313358
         ],
         "yaxis": "y"
        },
        {
         "hovertemplate": "country=Denmark<br>year=%{x}<br>pct_new_per_pop_disorders=%{y}<extra></extra>",
         "legendgroup": "Denmark",
         "marker": {
          "color": "#FF6692",
          "symbol": "circle"
         },
         "mode": "markers",
         "name": "Denmark",
         "showlegend": true,
         "type": "scattergl",
         "visible": "legendonly",
         "x": [
          2005,
          2007,
          2008,
          2009,
          2010,
          2011,
          2012,
          2013,
          2014,
          2015,
          2016,
          2017,
          2018
         ],
         "xaxis": "x",
         "y": [
          0.012819248322005702,
          0.0124364108718491,
          0.0122497972963513,
          0.0121075882320106,
          0.0120462864113849,
          0.0120520259496523,
          0.012079279756419401,
          0.012121709582765,
          0.012170132902072701,
          0.0122128778644227,
          0.012302404977398299,
          0.0124538513661589,
          0.0126049738707162
         ],
         "yaxis": "y"
        },
        {
         "hovertemplate": "country=Egypt<br>year=%{x}<br>pct_new_per_pop_disorders=%{y}<extra></extra>",
         "legendgroup": "Egypt",
         "marker": {
          "color": "#B6E880",
          "symbol": "circle"
         },
         "mode": "markers",
         "name": "Egypt",
         "showlegend": true,
         "type": "scattergl",
         "visible": "legendonly",
         "x": [
          2005,
          2007,
          2008,
          2009,
          2010,
          2011,
          2012,
          2013,
          2014,
          2015,
          2016,
          2017,
          2018
         ],
         "xaxis": "x",
         "y": [
          0.0116710497079382,
          0.0117441937090063,
          0.011765287255708901,
          0.0117641169754306,
          0.011722554674372,
          0.011726025751941802,
          0.0118630245704545,
          0.0120347860750227,
          0.0122320683234243,
          0.0123433251045744,
          0.0124235157519592,
          0.0124922860045691,
          0.0125868437475206
         ],
         "yaxis": "y"
        },
        {
         "hovertemplate": "country=Spain<br>year=%{x}<br>pct_new_per_pop_disorders=%{y}<extra></extra>",
         "legendgroup": "Spain",
         "marker": {
          "color": "#FF97FF",
          "symbol": "circle"
         },
         "mode": "markers",
         "name": "Spain",
         "showlegend": true,
         "type": "scattergl",
         "visible": "legendonly",
         "x": [
          2005,
          2007,
          2008,
          2009,
          2010,
          2011,
          2012,
          2013,
          2014,
          2015,
          2016,
          2017,
          2018
         ],
         "xaxis": "x",
         "y": [
          0.0144358279667906,
          0.0151310601275721,
          0.0156376174049995,
          0.0161138020506852,
          0.0164680608503545,
          0.0167588431330854,
          0.017103513119793502,
          0.017463470533694802,
          0.0177979098009008,
          0.0180620573715705,
          0.0183275628167682,
          0.0186609701440475,
          0.018976664443629297
         ],
         "yaxis": "y"
        },
        {
         "hovertemplate": "country=France<br>year=%{x}<br>pct_new_per_pop_disorders=%{y}<extra></extra>",
         "legendgroup": "France",
         "marker": {
          "color": "#FECB52",
          "symbol": "circle"
         },
         "mode": "markers",
         "name": "France",
         "showlegend": true,
         "type": "scattergl",
         "visible": "legendonly",
         "x": [
          2005,
          2006,
          2008,
          2009,
          2010,
          2011,
          2012,
          2013,
          2014,
          2015,
          2016,
          2017,
          2018
         ],
         "xaxis": "x",
         "y": [
          0.0138531342219138,
          0.013842799594570101,
          0.014174653185849501,
          0.014340378301487999,
          0.0143839758805395,
          0.0142168664429889,
          0.0138929890971922,
          0.0135252833596298,
          0.0132280206482994,
          0.013114798201092499,
          0.0132085206431002,
          0.0133968916225404,
          0.013598449537360901
         ],
         "yaxis": "y"
        },
        {
         "hovertemplate": "country=United Kingdom<br>year=%{x}<br>pct_new_per_pop_disorders=%{y}<extra></extra>",
         "legendgroup": "United Kingdom",
         "marker": {
          "color": "#636efa",
          "symbol": "circle"
         },
         "mode": "markers",
         "name": "United Kingdom",
         "showlegend": true,
         "type": "scattergl",
         "visible": "legendonly",
         "x": [
          2005,
          2007,
          2008,
          2009,
          2010,
          2011,
          2012,
          2013,
          2014,
          2015,
          2016,
          2017,
          2018
         ],
         "xaxis": "x",
         "y": [
          0.0139792183991117,
          0.013827347350114899,
          0.013780257046399302,
          0.0137571747360099,
          0.0137580820170613,
          0.0139028681799125,
          0.0142344076021651,
          0.0146454759101907,
          0.0150221382189657,
          0.0152448986095007,
          0.015332285612461,
          0.0153862004566744,
          0.0154164127531942
         ],
         "yaxis": "y"
        },
        {
         "hovertemplate": "country=Greece<br>year=%{x}<br>pct_new_per_pop_disorders=%{y}<extra></extra>",
         "legendgroup": "Greece",
         "marker": {
          "color": "#EF553B",
          "symbol": "circle"
         },
         "mode": "markers",
         "name": "Greece",
         "showlegend": true,
         "type": "scattergl",
         "visible": "legendonly",
         "x": [
          2005,
          2007,
          2009,
          2010,
          2011,
          2012,
          2013,
          2014,
          2015,
          2016,
          2017,
          2018
         ],
         "xaxis": "x",
         "y": [
          0.021882831807773503,
          0.021777866088372098,
          0.0216755871776704,
          0.021628221944674,
          0.0212415486801256,
          0.0203898900939779,
          0.0193867095692352,
          0.018559482360160702,
          0.018262070273759,
          0.018734207667313,
          0.0196886987214884,
          0.0206783187029587
         ],
         "yaxis": "y"
        },
        {
         "hovertemplate": "country=Hungary<br>year=%{x}<br>pct_new_per_pop_disorders=%{y}<extra></extra>",
         "legendgroup": "Hungary",
         "marker": {
          "color": "#00cc96",
          "symbol": "circle"
         },
         "mode": "markers",
         "name": "Hungary",
         "showlegend": true,
         "type": "scattergl",
         "visible": "legendonly",
         "x": [
          2005,
          2007,
          2009,
          2010,
          2011,
          2012,
          2013,
          2014,
          2015,
          2016,
          2017,
          2018
         ],
         "xaxis": "x",
         "y": [
          0.0130742629829485,
          0.012906926823833799,
          0.0127611780683183,
          0.0127389243191245,
          0.012776497300858499,
          0.0128685263250289,
          0.012983197593501,
          0.013091193991751699,
          0.013158211842632599,
          0.013180776548573098,
          0.0131860528596457,
          0.0131874079868741
         ],
         "yaxis": "y"
        },
        {
         "hovertemplate": "country=Iran<br>year=%{x}<br>pct_new_per_pop_disorders=%{y}<extra></extra>",
         "legendgroup": "Iran",
         "marker": {
          "color": "#ab63fa",
          "symbol": "circle"
         },
         "mode": "markers",
         "name": "Iran",
         "showlegend": true,
         "type": "scattergl",
         "visible": "legendonly",
         "x": [
          2005,
          2007,
          2008,
          2011,
          2012,
          2013,
          2014,
          2015,
          2016,
          2017,
          2018
         ],
         "xaxis": "x",
         "y": [
          0.0167677763072111,
          0.01761700046415,
          0.0181166572339195,
          0.01902755721069,
          0.0192676215937682,
          0.019495312547042398,
          0.0196585482463942,
          0.019709572672589402,
          0.0196239335258784,
          0.0194502017119513,
          0.0192477037304244
         ],
         "yaxis": "y"
        },
        {
         "hovertemplate": "country=Italy<br>year=%{x}<br>pct_new_per_pop_disorders=%{y}<extra></extra>",
         "legendgroup": "Italy",
         "marker": {
          "color": "#FFA15A",
          "symbol": "circle"
         },
         "mode": "markers",
         "name": "Italy",
         "showlegend": true,
         "type": "scattergl",
         "visible": "legendonly",
         "x": [
          2005,
          2007,
          2008,
          2009,
          2010,
          2011,
          2012,
          2013,
          2014,
          2015,
          2016,
          2017,
          2018
         ],
         "xaxis": "x",
         "y": [
          0.0148044528050454,
          0.0145492515580222,
          0.0144098593401826,
          0.0143082612785717,
          0.0142798489350673,
          0.014291884464889,
          0.014299673804701,
          0.0143111509320814,
          0.0143382437447531,
          0.0143939288246389,
          0.014474615796102399,
          0.0145653058558999,
          0.0146606469423425
         ],
         "yaxis": "y"
        },
        {
         "hovertemplate": "country=Jordan<br>year=%{x}<br>pct_new_per_pop_disorders=%{y}<extra></extra>",
         "legendgroup": "Jordan",
         "marker": {
          "color": "#19d3f3",
          "symbol": "circle"
         },
         "mode": "markers",
         "name": "Jordan",
         "showlegend": true,
         "type": "scattergl",
         "visible": "legendonly",
         "x": [
          2005,
          2007,
          2008,
          2009,
          2010,
          2011,
          2012,
          2013,
          2014,
          2015,
          2016,
          2017,
          2018
         ],
         "xaxis": "x",
         "y": [
          0.014360146519495501,
          0.014092478194988201,
          0.0139208332851509,
          0.013806968529460199,
          0.0137856457281026,
          0.0138409811985051,
          0.013931609860802701,
          0.0140485383036943,
          0.014179577259719899,
          0.0143370191544182,
          0.014583394465459,
          0.014935720930629,
          0.0152896779246942
         ],
         "yaxis": "y"
        },
        {
         "hovertemplate": "country=Japan<br>year=%{x}<br>pct_new_per_pop_disorders=%{y}<extra></extra>",
         "legendgroup": "Japan",
         "marker": {
          "color": "#FF6692",
          "symbol": "circle"
         },
         "mode": "markers",
         "name": "Japan",
         "showlegend": true,
         "type": "scattergl",
         "visible": "legendonly",
         "x": [
          2005,
          2007,
          2008,
          2009,
          2010,
          2011,
          2012,
          2013,
          2014,
          2015,
          2016,
          2017,
          2018
         ],
         "xaxis": "x",
         "y": [
          0.007741821775723,
          0.007654696384849,
          0.0075739596767252,
          0.0074985340794272,
          0.0074479505437108,
          0.0074204963822607,
          0.0074200768442977995,
          0.007426506640634299,
          0.0074390979060861995,
          0.0074494501760691,
          0.007455081821912,
          0.0074598593880998,
          0.0074672833899009005
         ],
         "yaxis": "y"
        },
        {
         "hovertemplate": "country=Lebanon<br>year=%{x}<br>pct_new_per_pop_disorders=%{y}<extra></extra>",
         "legendgroup": "Lebanon",
         "marker": {
          "color": "#B6E880",
          "symbol": "circle"
         },
         "mode": "markers",
         "name": "Lebanon",
         "showlegend": true,
         "type": "scattergl",
         "visible": "legendonly",
         "x": [
          2005,
          2006,
          2008,
          2009,
          2010,
          2011,
          2012,
          2013,
          2014,
          2015,
          2016,
          2017,
          2018
         ],
         "xaxis": "x",
         "y": [
          0.017898242803727,
          0.0178755981815546,
          0.018158499574783202,
          0.018288936572791098,
          0.018377802291660097,
          0.0184768013344602,
          0.0185781276061765,
          0.018582172306887,
          0.0184656933677226,
          0.018417811748089902,
          0.0182479657737943,
          0.0178832820340563,
          0.0175316379858504
         ],
         "yaxis": "y"
        },
        {
         "hovertemplate": "country=Mexico<br>year=%{x}<br>pct_new_per_pop_disorders=%{y}<extra></extra>",
         "legendgroup": "Mexico",
         "marker": {
          "color": "#FF97FF",
          "symbol": "circle"
         },
         "mode": "markers",
         "name": "Mexico",
         "showlegend": true,
         "type": "scattergl",
         "visible": "legendonly",
         "x": [
          2005,
          2007,
          2008,
          2009,
          2010,
          2011,
          2012,
          2013,
          2014,
          2015,
          2016,
          2017,
          2018
         ],
         "xaxis": "x",
         "y": [
          0.0088543814289168,
          0.0094615916078737,
          0.009873904450061099,
          0.0102521904979055,
          0.0105087844955478,
          0.0106673775517552,
          0.0108103034102199,
          0.0109380001310838,
          0.0110563137409085,
          0.011172922206235999,
          0.0113035683976327,
          0.0114651334262752,
          0.011628074724749101
         ],
         "yaxis": "y"
        },
        {
         "hovertemplate": "country=Netherlands<br>year=%{x}<br>pct_new_per_pop_disorders=%{y}<extra></extra>",
         "legendgroup": "Netherlands",
         "marker": {
          "color": "#FECB52",
          "symbol": "circle"
         },
         "mode": "markers",
         "name": "Netherlands",
         "showlegend": true,
         "type": "scattergl",
         "visible": "legendonly",
         "x": [
          2005,
          2007,
          2008,
          2010,
          2011,
          2012,
          2013,
          2014,
          2015,
          2016,
          2017,
          2018
         ],
         "xaxis": "x",
         "y": [
          0.012239237299587601,
          0.012087639014248301,
          0.0120050222894773,
          0.0118722333050017,
          0.0118098933393798,
          0.0117279260756167,
          0.011655857684250499,
          0.0116155418688471,
          0.0116350702346224,
          0.0118154715909749,
          0.012154332114896499,
          0.012504350938526499
         ],
         "yaxis": "y"
        },
        {
         "hovertemplate": "country=Pakistan<br>year=%{x}<br>pct_new_per_pop_disorders=%{y}<extra></extra>",
         "legendgroup": "Pakistan",
         "marker": {
          "color": "#636efa",
          "symbol": "circle"
         },
         "mode": "markers",
         "name": "Pakistan",
         "showlegend": true,
         "type": "scattergl",
         "visible": "legendonly",
         "x": [
          2005,
          2007,
          2008,
          2009,
          2010,
          2011,
          2012,
          2013,
          2014,
          2015,
          2016,
          2017,
          2018
         ],
         "xaxis": "x",
         "y": [
          0.007462050458425001,
          0.007497858133269099,
          0.0075004750123681,
          0.007481781115192401,
          0.0074625916688595,
          0.007500321330671801,
          0.0075696008413732,
          0.007675756678995,
          0.0077943247514866,
          0.0079292389873387,
          0.0081028900523035,
          0.008320071432877699,
          0.0085546314775657
         ],
         "yaxis": "y"
        },
        {
         "hovertemplate": "country=Poland<br>year=%{x}<br>pct_new_per_pop_disorders=%{y}<extra></extra>",
         "legendgroup": "Poland",
         "marker": {
          "color": "#EF553B",
          "symbol": "circle"
         },
         "mode": "markers",
         "name": "Poland",
         "showlegend": true,
         "type": "scattergl",
         "visible": "legendonly",
         "x": [
          2005,
          2007,
          2009,
          2010,
          2011,
          2012,
          2013,
          2014,
          2015,
          2016,
          2017,
          2018
         ],
         "xaxis": "x",
         "y": [
          0.007486262229283999,
          0.007521697553873399,
          0.007576701198653,
          0.0075971891830527005,
          0.0076120646922461,
          0.0076269503315407996,
          0.0076424104391172,
          0.0076595690288212,
          0.0076787840609336,
          0.007852320241186801,
          0.0082144969765287,
          0.0085893932998575
         ],
         "yaxis": "y"
        },
        {
         "hovertemplate": "country=Romania<br>year=%{x}<br>pct_new_per_pop_disorders=%{y}<extra></extra>",
         "legendgroup": "Romania",
         "marker": {
          "color": "#00cc96",
          "symbol": "circle"
         },
         "mode": "markers",
         "name": "Romania",
         "showlegend": true,
         "type": "scattergl",
         "visible": "legendonly",
         "x": [
          2005,
          2007,
          2009,
          2010,
          2011,
          2012,
          2013,
          2014,
          2015,
          2016,
          2017,
          2018
         ],
         "xaxis": "x",
         "y": [
          0.010683194229964901,
          0.0107195792390843,
          0.0107486187346169,
          0.0107814981774743,
          0.0108324138056345,
          0.0108915314310318,
          0.010960625484192299,
          0.0110253068377543,
          0.0110855817269697,
          0.0111488102820542,
          0.011220164628323499,
          0.0112987247524827
         ],
         "yaxis": "y"
        },
        {
         "hovertemplate": "country=Saudi Arabia<br>year=%{x}<br>pct_new_per_pop_disorders=%{y}<extra></extra>",
         "legendgroup": "Saudi Arabia",
         "marker": {
          "color": "#ab63fa",
          "symbol": "circle"
         },
         "mode": "markers",
         "name": "Saudi Arabia",
         "showlegend": true,
         "type": "scattergl",
         "visible": "legendonly",
         "x": [
          2005,
          2007,
          2008,
          2009,
          2010,
          2011,
          2012,
          2013,
          2014,
          2015,
          2016,
          2017,
          2018
         ],
         "xaxis": "x",
         "y": [
          0.013121379753055799,
          0.0135853945508209,
          0.0138729886881551,
          0.0141347847709008,
          0.014333994269354899,
          0.0144968143860211,
          0.0146732041324982,
          0.014848518064977,
          0.015007902885839499,
          0.0151395504298544,
          0.0152514693442236,
          0.0153572009443676,
          0.0154563732553114
         ],
         "yaxis": "y"
        },
        {
         "hovertemplate": "country=Sweden<br>year=%{x}<br>pct_new_per_pop_disorders=%{y}<extra></extra>",
         "legendgroup": "Sweden",
         "marker": {
          "color": "#FFA15A",
          "symbol": "circle"
         },
         "mode": "markers",
         "name": "Sweden",
         "showlegend": true,
         "type": "scattergl",
         "visible": "legendonly",
         "x": [
          2005,
          2007,
          2008,
          2009,
          2010,
          2011,
          2012,
          2013,
          2014,
          2015,
          2016,
          2017,
          2018
         ],
         "xaxis": "x",
         "y": [
          0.015863965219632698,
          0.0159184799584524,
          0.0159602347831004,
          0.015977710809582598,
          0.015945985605211502,
          0.0158069066437005,
          0.0155645821013582,
          0.015285356606766599,
          0.0150379993512543,
          0.014889255209398801,
          0.0148118529583668,
          0.0147426359054859,
          0.0146984700543497
         ],
         "yaxis": "y"
        },
        {
         "hovertemplate": "country=Turkiye<br>year=%{x}<br>pct_new_per_pop_disorders=%{y}<extra></extra>",
         "legendgroup": "Turkiye",
         "marker": {
          "color": "#19d3f3",
          "symbol": "circle"
         },
         "mode": "markers",
         "name": "Turkiye",
         "showlegend": true,
         "type": "scattergl",
         "visible": "legendonly",
         "x": [
          2005,
          2007,
          2008,
          2009,
          2010,
          2011,
          2012,
          2013,
          2014,
          2015,
          2016,
          2017,
          2018
         ],
         "xaxis": "x",
         "y": [
          0.0122648102370257,
          0.0123965658936414,
          0.0124296383454485,
          0.0124568397742445,
          0.012500646656798299,
          0.012557644480235601,
          0.0126206229696641,
          0.0126839121395679,
          0.0127429383778112,
          0.0127921695244121,
          0.0128009756266708,
          0.0127869749587347,
          0.012751160160637801
         ],
         "yaxis": "y"
        },
        {
         "hovertemplate": "country=Venezuela<br>year=%{x}<br>pct_new_per_pop_disorders=%{y}<extra></extra>",
         "legendgroup": "Venezuela",
         "marker": {
          "color": "#FF6692",
          "symbol": "circle"
         },
         "mode": "markers",
         "name": "Venezuela",
         "showlegend": true,
         "type": "scattergl",
         "visible": "legendonly",
         "x": [
          2005,
          2006,
          2008,
          2009,
          2010,
          2011,
          2012,
          2013,
          2014,
          2015,
          2016,
          2017,
          2018
         ],
         "xaxis": "x",
         "y": [
          0.009394376267383,
          0.0094354970280642,
          0.009444814293690899,
          0.0094664278774845,
          0.009531070586693599,
          0.0096391729621245,
          0.009761956769993599,
          0.009885252626459,
          0.0099989017887623,
          0.010066584381648501,
          0.0100400797574779,
          0.010160736502283,
          0.0102789734465827
         ],
         "yaxis": "y"
        },
        {
         "hovertemplate": "country=United Arab Emirates<br>year=%{x}<br>pct_new_per_pop_disorders=%{y}<extra></extra>",
         "legendgroup": "United Arab Emirates",
         "marker": {
          "color": "#B6E880",
          "symbol": "circle"
         },
         "mode": "markers",
         "name": "United Arab Emirates",
         "showlegend": true,
         "type": "scattergl",
         "visible": "legendonly",
         "x": [
          2006,
          2009,
          2010,
          2011,
          2012,
          2013,
          2014,
          2015,
          2016,
          2017,
          2018
         ],
         "xaxis": "x",
         "y": [
          0.014920696858325299,
          0.0148257536114617,
          0.014791262353397101,
          0.0148574929795755,
          0.0149918572268437,
          0.0151663076525347,
          0.015346103746448899,
          0.015491653948419,
          0.0156373684032283,
          0.0157964897193258,
          0.0159671711264434
         ],
         "yaxis": "y"
        },
        {
         "hovertemplate": "country=Argentina<br>year=%{x}<br>pct_new_per_pop_disorders=%{y}<extra></extra>",
         "legendgroup": "Argentina",
         "marker": {
          "color": "#FF97FF",
          "symbol": "circle"
         },
         "mode": "markers",
         "name": "Argentina",
         "showlegend": true,
         "type": "scattergl",
         "visible": "legendonly",
         "x": [
          2006,
          2007,
          2008,
          2009,
          2010,
          2011,
          2012,
          2013,
          2014,
          2015,
          2016,
          2017,
          2018
         ],
         "xaxis": "x",
         "y": [
          0.0078637201490677,
          0.0077862452440953,
          0.007689757285072,
          0.0076157482340516,
          0.0076056814843334,
          0.007658647880151,
          0.00773991440837,
          0.0078375643310877,
          0.0079390580580532,
          0.0080323278128884,
          0.0081345990647307,
          0.008270865430673801,
          0.0084027698676928
         ],
         "yaxis": "y"
        },
        {
         "hovertemplate": "country=Armenia<br>year=%{x}<br>pct_new_per_pop_disorders=%{y}<extra></extra>",
         "legendgroup": "Armenia",
         "marker": {
          "color": "#FECB52",
          "symbol": "circle"
         },
         "mode": "markers",
         "name": "Armenia",
         "showlegend": true,
         "type": "scattergl",
         "visible": "legendonly",
         "x": [
          2006,
          2007,
          2008,
          2009,
          2010,
          2011,
          2012,
          2013,
          2014,
          2015,
          2016,
          2017,
          2018
         ],
         "xaxis": "x",
         "y": [
          0.0104299348438975,
          0.0105324170001507,
          0.010607982926454,
          0.010670503490604,
          0.010740608427557401,
          0.0108457566352601,
          0.0109889166354269,
          0.011147757509563599,
          0.0112967307923497,
          0.0114100504908761,
          0.011501681437963299,
          0.0116263176047945,
          0.0117302503167762
         ],
         "yaxis": "y"
        },
        {
         "hovertemplate": "country=Austria<br>year=%{x}<br>pct_new_per_pop_disorders=%{y}<extra></extra>",
         "legendgroup": "Austria",
         "marker": {
          "color": "#636efa",
          "symbol": "circle"
         },
         "mode": "markers",
         "name": "Austria",
         "showlegend": true,
         "type": "scattergl",
         "visible": "legendonly",
         "x": [
          2006,
          2008,
          2010,
          2011,
          2012,
          2013,
          2014,
          2015,
          2016,
          2017,
          2018
         ],
         "xaxis": "x",
         "y": [
          0.009937825232136401,
          0.009929568620862599,
          0.0100040703021652,
          0.0100764509482173,
          0.010167260431986501,
          0.010264402364235899,
          0.0103552804111511,
          0.0104293009705056,
          0.0105080876307408,
          0.010602292793680398,
          0.0106848288055944
         ],
         "yaxis": "y"
        },
        {
         "hovertemplate": "country=Azerbaijan<br>year=%{x}<br>pct_new_per_pop_disorders=%{y}<extra></extra>",
         "legendgroup": "Azerbaijan",
         "marker": {
          "color": "#EF553B",
          "symbol": "circle"
         },
         "mode": "markers",
         "name": "Azerbaijan",
         "showlegend": true,
         "type": "scattergl",
         "visible": "legendonly",
         "x": [
          2006,
          2007,
          2008,
          2009,
          2010,
          2011,
          2012,
          2013,
          2014,
          2015,
          2016,
          2017,
          2018
         ],
         "xaxis": "x",
         "y": [
          0.009648036150090699,
          0.0097117208276418,
          0.009758113230506401,
          0.0098057751530233,
          0.0098543254496063,
          0.0099178417817358,
          0.0099854561898628,
          0.0100597024610361,
          0.0101447975720131,
          0.010238487280578499,
          0.0103641901808289,
          0.010527257863501801,
          0.0106893262825772
         ],
         "yaxis": "y"
        },
        {
         "hovertemplate": "country=Benin<br>year=%{x}<br>pct_new_per_pop_disorders=%{y}<extra></extra>",
         "legendgroup": "Benin",
         "marker": {
          "color": "#00cc96",
          "symbol": "circle"
         },
         "mode": "markers",
         "name": "Benin",
         "showlegend": true,
         "type": "scattergl",
         "visible": "legendonly",
         "x": [
          2006,
          2008,
          2011,
          2012,
          2013,
          2014,
          2015,
          2016,
          2017,
          2018
         ],
         "xaxis": "x",
         "y": [
          0.0064395305013769,
          0.0065375150648004,
          0.0067825864401246,
          0.0068825565511219,
          0.0069672341903193,
          0.0070385569470610004,
          0.007094041080751699,
          0.007109112387644999,
          0.007140689130486599,
          0.0071894903633296
         ],
         "yaxis": "y"
        },
        {
         "hovertemplate": "country=Burkina Faso<br>year=%{x}<br>pct_new_per_pop_disorders=%{y}<extra></extra>",
         "legendgroup": "Burkina Faso",
         "marker": {
          "color": "#ab63fa",
          "symbol": "circle"
         },
         "mode": "markers",
         "name": "Burkina Faso",
         "showlegend": true,
         "type": "scattergl",
         "visible": "legendonly",
         "x": [
          2006,
          2007,
          2008,
          2010,
          2011,
          2012,
          2013,
          2014,
          2015,
          2016,
          2017,
          2018
         ],
         "xaxis": "x",
         "y": [
          0.006087896758255,
          0.0061026552518239,
          0.0061066819724479,
          0.006164199365058,
          0.0062933301735401005,
          0.006546421448150199,
          0.0068728946222102,
          0.0071788151179543,
          0.0073842916784986005,
          0.007444324904699101,
          0.0073532959581438,
          0.0072178280606978
         ],
         "yaxis": "y"
        },
        {
         "hovertemplate": "country=Bangladesh<br>year=%{x}<br>pct_new_per_pop_disorders=%{y}<extra></extra>",
         "legendgroup": "Bangladesh",
         "marker": {
          "color": "#FFA15A",
          "symbol": "circle"
         },
         "mode": "markers",
         "name": "Bangladesh",
         "showlegend": true,
         "type": "scattergl",
         "visible": "legendonly",
         "x": [
          2006,
          2007,
          2008,
          2009,
          2010,
          2011,
          2012,
          2013,
          2014,
          2015,
          2016,
          2017,
          2018
         ],
         "xaxis": "x",
         "y": [
          0.0098802589650922,
          0.0100566743672366,
          0.0102377756977816,
          0.010422658852406499,
          0.0106109297095638,
          0.0108175100319161,
          0.011026635299690099,
          0.011250683337352,
          0.0114705359754141,
          0.0117093997306204,
          0.0119291896065953,
          0.0121498795822263,
          0.012381856156889
         ],
         "yaxis": "y"
        },
        {
         "hovertemplate": "country=Belarus<br>year=%{x}<br>pct_new_per_pop_disorders=%{y}<extra></extra>",
         "legendgroup": "Belarus",
         "marker": {
          "color": "#19d3f3",
          "symbol": "circle"
         },
         "mode": "markers",
         "name": "Belarus",
         "showlegend": true,
         "type": "scattergl",
         "visible": "legendonly",
         "x": [
          2006,
          2007,
          2008,
          2009,
          2010,
          2011,
          2012,
          2013,
          2014,
          2015,
          2016,
          2017,
          2018
         ],
         "xaxis": "x",
         "y": [
          0.0164293488325931,
          0.0163186827877021,
          0.016168539453624,
          0.016029150272726802,
          0.015951074687321,
          0.015925397072305,
          0.0159175322005894,
          0.0159115913972958,
          0.0159032382839723,
          0.0158858499046043,
          0.015854902686546598,
          0.0158282313266987,
          0.015816308281731098
         ],
         "yaxis": "y"
        },
        {
         "hovertemplate": "country=Bolivia<br>year=%{x}<br>pct_new_per_pop_disorders=%{y}<extra></extra>",
         "legendgroup": "Bolivia",
         "marker": {
          "color": "#FF6692",
          "symbol": "circle"
         },
         "mode": "markers",
         "name": "Bolivia",
         "showlegend": true,
         "type": "scattergl",
         "visible": "legendonly",
         "x": [
          2006,
          2007,
          2008,
          2009,
          2010,
          2011,
          2012,
          2013,
          2014,
          2015,
          2016,
          2017,
          2018
         ],
         "xaxis": "x",
         "y": [
          0.0092055298486713,
          0.0093282610868357,
          0.009466633652248299,
          0.009607219316185701,
          0.009743441394366099,
          0.009881465347602,
          0.010013686778822702,
          0.0101393336268375,
          0.010251349999413899,
          0.010352588094467,
          0.0104287433351257,
          0.010489215638551201,
          0.010548922585575202
         ],
         "yaxis": "y"
        },
        {
         "hovertemplate": "country=Botswana<br>year=%{x}<br>pct_new_per_pop_disorders=%{y}<extra></extra>",
         "legendgroup": "Botswana",
         "marker": {
          "color": "#B6E880",
          "symbol": "circle"
         },
         "mode": "markers",
         "name": "Botswana",
         "showlegend": true,
         "type": "scattergl",
         "visible": "legendonly",
         "x": [
          2006,
          2008,
          2010,
          2011,
          2012,
          2013,
          2014,
          2015,
          2016,
          2017,
          2018
         ],
         "xaxis": "x",
         "y": [
          0.0081546255493627,
          0.0082755243573924,
          0.0084105254171418,
          0.0085169772384031,
          0.0086458683536925,
          0.0087811346916029,
          0.0089172803191647,
          0.0090359734402364,
          0.0091318311211709,
          0.0092191235868823,
          0.009297041203776
         ],
         "yaxis": "y"
        },
        {
         "hovertemplate": "country=Switzerland<br>year=%{x}<br>pct_new_per_pop_disorders=%{y}<extra></extra>",
         "legendgroup": "Switzerland",
         "marker": {
          "color": "#FF97FF",
          "symbol": "circle"
         },
         "mode": "markers",
         "name": "Switzerland",
         "showlegend": true,
         "type": "scattergl",
         "visible": "legendonly",
         "x": [
          2006,
          2009,
          2012,
          2014,
          2015,
          2016,
          2017,
          2018
         ],
         "xaxis": "x",
         "y": [
          0.0114151727897715,
          0.013434447395711799,
          0.0136516381903793,
          0.0135989843812355,
          0.0135905615260085,
          0.0136358003904446,
          0.013740464107492899,
          0.0138500892282496
         ],
         "yaxis": "y"
        },
        {
         "hovertemplate": "country=Chile<br>year=%{x}<br>pct_new_per_pop_disorders=%{y}<extra></extra>",
         "legendgroup": "Chile",
         "marker": {
          "color": "#FECB52",
          "symbol": "circle"
         },
         "mode": "markers",
         "name": "Chile",
         "showlegend": true,
         "type": "scattergl",
         "visible": "legendonly",
         "x": [
          2006,
          2007,
          2008,
          2009,
          2010,
          2011,
          2012,
          2013,
          2014,
          2015,
          2016,
          2017,
          2018
         ],
         "xaxis": "x",
         "y": [
          0.013454226183482899,
          0.0132585587468881,
          0.013003516383096601,
          0.012788749062498399,
          0.012712623318721701,
          0.012777152221786998,
          0.0128593870294775,
          0.0129429875350735,
          0.0130091352127624,
          0.0130405496274206,
          0.0130343455481036,
          0.0130028359596718,
          0.012970219907200299
         ],
         "yaxis": "y"
        },
        {
         "hovertemplate": "country=China<br>year=%{x}<br>pct_new_per_pop_disorders=%{y}<extra></extra>",
         "legendgroup": "China",
         "marker": {
          "color": "#636efa",
          "symbol": "circle"
         },
         "mode": "markers",
         "name": "China",
         "showlegend": true,
         "type": "scattergl",
         "visible": "legendonly",
         "x": [
          2006,
          2007,
          2008,
          2009,
          2010,
          2011,
          2012,
          2013,
          2014,
          2015,
          2016,
          2017,
          2018
         ],
         "xaxis": "x",
         "y": [
          0.0099782781635775,
          0.010003573477451299,
          0.010018866960322299,
          0.0100829014060579,
          0.0101655984706761,
          0.010312832797761,
          0.010505432196511202,
          0.0107056504779894,
          0.0108812969439296,
          0.010987639442449602,
          0.011022085227030501,
          0.011037197219757499,
          0.0110676263918093
         ],
         "yaxis": "y"
        },
        {
         "hovertemplate": "country=Cameroon<br>year=%{x}<br>pct_new_per_pop_disorders=%{y}<extra></extra>",
         "legendgroup": "Cameroon",
         "marker": {
          "color": "#EF553B",
          "symbol": "circle"
         },
         "mode": "markers",
         "name": "Cameroon",
         "showlegend": true,
         "type": "scattergl",
         "visible": "legendonly",
         "x": [
          2006,
          2007,
          2008,
          2009,
          2010,
          2011,
          2012,
          2013,
          2014,
          2015,
          2016,
          2017,
          2018
         ],
         "xaxis": "x",
         "y": [
          0.006595766543172,
          0.006580455378350099,
          0.0065758949123087,
          0.0065969409888310005,
          0.0066266603203852,
          0.0066902788871206,
          0.006775398122406,
          0.0068758011123354,
          0.0069826623461221,
          0.0070845725916868,
          0.0072293812877777,
          0.007387959393337301,
          0.0075377356959452
         ],
         "yaxis": "y"
        },
        {
         "hovertemplate": "country=Colombia<br>year=%{x}<br>pct_new_per_pop_disorders=%{y}<extra></extra>",
         "legendgroup": "Colombia",
         "marker": {
          "color": "#00cc96",
          "symbol": "circle"
         },
         "mode": "markers",
         "name": "Colombia",
         "showlegend": true,
         "type": "scattergl",
         "visible": "legendonly",
         "x": [
          2006,
          2007,
          2008,
          2009,
          2010,
          2011,
          2012,
          2013,
          2014,
          2015,
          2016,
          2017,
          2018
         ],
         "xaxis": "x",
         "y": [
          0.0071168500556801,
          0.0069371958484738,
          0.0067027866365017,
          0.0064937076803752,
          0.0064075034645362005,
          0.0064319493196183,
          0.0064667332570337,
          0.0065194084643389,
          0.006579014531664,
          0.006643131837795,
          0.0067261511205184,
          0.0069726704239814,
          0.007164007062995199
         ],
         "yaxis": "y"
        },
        {
         "hovertemplate": "country=Costa Rica<br>year=%{x}<br>pct_new_per_pop_disorders=%{y}<extra></extra>",
         "legendgroup": "Costa Rica",
         "marker": {
          "color": "#ab63fa",
          "symbol": "circle"
         },
         "mode": "markers",
         "name": "Costa Rica",
         "showlegend": true,
         "type": "scattergl",
         "visible": "legendonly",
         "x": [
          2006,
          2007,
          2008,
          2009,
          2010,
          2011,
          2012,
          2013,
          2014,
          2015,
          2016,
          2017,
          2018
         ],
         "xaxis": "x",
         "y": [
          0.009845575532331199,
          0.0099044284385816,
          0.0099509232299618,
          0.0100022286562285,
          0.0100711320401641,
          0.0101625344153372,
          0.0102655557944461,
          0.010374761503749,
          0.010481361338672899,
          0.010575490834399601,
          0.010638197443068001,
          0.0107732409337272,
          0.010896879023272
         ],
         "yaxis": "y"
        },
        {
         "hovertemplate": "country=Cuba<br>year=%{x}<br>pct_new_per_pop_disorders=%{y}<extra></extra>",
         "legendgroup": "Cuba",
         "marker": {
          "color": "#FFA15A",
          "symbol": "circle"
         },
         "mode": "markers",
         "name": "Cuba",
         "showlegend": true,
         "type": "scattergl",
         "visible": "legendonly",
         "x": [
          2006
         ],
         "xaxis": "x",
         "y": [
          0.013769547672912798
         ],
         "yaxis": "y"
        },
        {
         "hovertemplate": "country=Cyprus<br>year=%{x}<br>pct_new_per_pop_disorders=%{y}<extra></extra>",
         "legendgroup": "Cyprus",
         "marker": {
          "color": "#19d3f3",
          "symbol": "circle"
         },
         "mode": "markers",
         "name": "Cyprus",
         "showlegend": true,
         "type": "scattergl",
         "visible": "legendonly",
         "x": [
          2006,
          2009,
          2010,
          2011,
          2012,
          2013,
          2014,
          2015,
          2016,
          2017,
          2018
         ],
         "xaxis": "x",
         "y": [
          0.0105022307548806,
          0.0102209031793004,
          0.0101857269014285,
          0.0102090904876634,
          0.0102618202099782,
          0.0103329348338786,
          0.0104103052176496,
          0.0104801131276939,
          0.0105996003522772,
          0.0107864624004185,
          0.010969196818626199
         ],
         "yaxis": "y"
        },
        {
         "hovertemplate": "country=Dominican Republic<br>year=%{x}<br>pct_new_per_pop_disorders=%{y}<extra></extra>",
         "legendgroup": "Dominican Republic",
         "marker": {
          "color": "#FF6692",
          "symbol": "circle"
         },
         "mode": "markers",
         "name": "Dominican Republic",
         "showlegend": true,
         "type": "scattergl",
         "visible": "legendonly",
         "x": [
          2006,
          2007,
          2008,
          2009,
          2010,
          2011,
          2012,
          2013,
          2014,
          2015,
          2016,
          2017,
          2018
         ],
         "xaxis": "x",
         "y": [
          0.0114047614946678,
          0.0114672549598888,
          0.0115192298047297,
          0.0115676781952387,
          0.0116318700504897,
          0.0117115322223826,
          0.0117926099132225,
          0.0118735381637832,
          0.0119582128084375,
          0.012053310364218401,
          0.0120348518961945,
          0.0121689529057818,
          0.012207953801179899
         ],
         "yaxis": "y"
        },
        {
         "hovertemplate": "country=Ecuador<br>year=%{x}<br>pct_new_per_pop_disorders=%{y}<extra></extra>",
         "legendgroup": "Ecuador",
         "marker": {
          "color": "#B6E880",
          "symbol": "circle"
         },
         "mode": "markers",
         "name": "Ecuador",
         "showlegend": true,
         "type": "scattergl",
         "visible": "legendonly",
         "x": [
          2006,
          2007,
          2008,
          2009,
          2010,
          2011,
          2012,
          2013,
          2014,
          2015,
          2016,
          2017,
          2018
         ],
         "xaxis": "x",
         "y": [
          0.0083566143204435,
          0.008558596823612801,
          0.008766163338801201,
          0.0089600666379622,
          0.0091157563474177,
          0.0092362937851619,
          0.0093437634383138,
          0.0094399767708637,
          0.009526611951275401,
          0.009605186518168898,
          0.0096565496677469,
          0.009751875918917399,
          0.0098313123986241
         ],
         "yaxis": "y"
        },
        {
         "hovertemplate": "country=Estonia<br>year=%{x}<br>pct_new_per_pop_disorders=%{y}<extra></extra>",
         "legendgroup": "Estonia",
         "marker": {
          "color": "#FF97FF",
          "symbol": "circle"
         },
         "mode": "markers",
         "name": "Estonia",
         "showlegend": true,
         "type": "scattergl",
         "visible": "legendonly",
         "x": [
          2006,
          2007,
          2008,
          2009,
          2011,
          2012,
          2013,
          2014,
          2015,
          2016,
          2017,
          2018
         ],
         "xaxis": "x",
         "y": [
          0.0176867032602059,
          0.017351030149875,
          0.017013450876281998,
          0.016709222448812,
          0.016317575654148,
          0.0161578208866211,
          0.0160231637949074,
          0.0159310406869527,
          0.0159056121657165,
          0.0159358443709792,
          0.0159988170419893,
          0.0160720128357001
         ],
         "yaxis": "y"
        },
        {
         "hovertemplate": "country=Finland<br>year=%{x}<br>pct_new_per_pop_disorders=%{y}<extra></extra>",
         "legendgroup": "Finland",
         "marker": {
          "color": "#FECB52",
          "symbol": "circle"
         },
         "mode": "markers",
         "name": "Finland",
         "showlegend": true,
         "type": "scattergl",
         "visible": "legendonly",
         "x": [
          2006,
          2008,
          2010,
          2011,
          2012,
          2013,
          2014,
          2015,
          2016,
          2017,
          2018
         ],
         "xaxis": "x",
         "y": [
          0.0151116444758107,
          0.0152317435657307,
          0.0152897734375795,
          0.0151231305978378,
          0.0148130357108312,
          0.0144613122680961,
          0.014190609230219,
          0.0141129043440072,
          0.0142121637504782,
          0.014391880687663,
          0.014636929117537301
         ],
         "yaxis": "y"
        },
        {
         "hovertemplate": "country=Georgia<br>year=%{x}<br>pct_new_per_pop_disorders=%{y}<extra></extra>",
         "legendgroup": "Georgia",
         "marker": {
          "color": "#636efa",
          "symbol": "circle"
         },
         "mode": "markers",
         "name": "Georgia",
         "showlegend": true,
         "type": "scattergl",
         "visible": "legendonly",
         "x": [
          2006,
          2007,
          2008,
          2009,
          2010,
          2011,
          2012,
          2013,
          2014,
          2015,
          2016,
          2017,
          2018
         ],
         "xaxis": "x",
         "y": [
          0.0149766930081877,
          0.015045157276322201,
          0.0149699597918866,
          0.015061998906307099,
          0.015080546957245498,
          0.0151401228461939,
          0.0152278808436721,
          0.015332195066022201,
          0.015445243645975399,
          0.0155425359824839,
          0.0156591745659138,
          0.0158161597670329,
          0.0159721203366898
         ],
         "yaxis": "y"
        },
        {
         "hovertemplate": "country=Ghana<br>year=%{x}<br>pct_new_per_pop_disorders=%{y}<extra></extra>",
         "legendgroup": "Ghana",
         "marker": {
          "color": "#EF553B",
          "symbol": "circle"
         },
         "mode": "markers",
         "name": "Ghana",
         "showlegend": true,
         "type": "scattergl",
         "visible": "legendonly",
         "x": [
          2006,
          2007,
          2008,
          2009,
          2010,
          2011,
          2012,
          2013,
          2014,
          2015,
          2016,
          2017,
          2018
         ],
         "xaxis": "x",
         "y": [
          0.0079359593631583,
          0.0079607931950427,
          0.0079464088090086,
          0.0079294620549145,
          0.0079348095427129,
          0.0080075025470217,
          0.0081492095072393,
          0.0083453122779168,
          0.008560313380528501,
          0.008741552213662,
          0.0088952967478557,
          0.009032340988443199,
          0.0091421464313759
         ],
         "yaxis": "y"
        },
        {
         "hovertemplate": "country=Guatemala<br>year=%{x}<br>pct_new_per_pop_disorders=%{y}<extra></extra>",
         "legendgroup": "Guatemala",
         "marker": {
          "color": "#00cc96",
          "symbol": "circle"
         },
         "mode": "markers",
         "name": "Guatemala",
         "showlegend": true,
         "type": "scattergl",
         "visible": "legendonly",
         "x": [
          2006,
          2007,
          2008,
          2009,
          2010,
          2011,
          2012,
          2013,
          2014,
          2015,
          2016,
          2017,
          2018
         ],
         "xaxis": "x",
         "y": [
          0.009430555614772601,
          0.009598966011204899,
          0.0097583485042959,
          0.0099078492226748,
          0.0100457251155957,
          0.010150879974357,
          0.0102074032477131,
          0.010234012745869799,
          0.0102673230194202,
          0.0103555840995604,
          0.010360202070179,
          0.010612345480553,
          0.010728817922533
         ],
         "yaxis": "y"
        },
        {
         "hovertemplate": "country=Honduras<br>year=%{x}<br>pct_new_per_pop_disorders=%{y}<extra></extra>",
         "legendgroup": "Honduras",
         "marker": {
          "color": "#ab63fa",
          "symbol": "circle"
         },
         "mode": "markers",
         "name": "Honduras",
         "showlegend": true,
         "type": "scattergl",
         "visible": "legendonly",
         "x": [
          2006,
          2007,
          2008,
          2009,
          2010,
          2011,
          2012,
          2013,
          2014,
          2015,
          2016,
          2017,
          2018
         ],
         "xaxis": "x",
         "y": [
          0.007357643916954501,
          0.0074633934287954996,
          0.007569371710507,
          0.007678496333659499,
          0.0077892984410041005,
          0.0079204369257726,
          0.0080642472949164,
          0.008208192848413901,
          0.0083408480342324,
          0.0084463638256675,
          0.008425554227258599,
          0.008624085006525,
          0.0087041185530229
         ],
         "yaxis": "y"
        },
        {
         "hovertemplate": "country=Haiti<br>year=%{x}<br>pct_new_per_pop_disorders=%{y}<extra></extra>",
         "legendgroup": "Haiti",
         "marker": {
          "color": "#FFA15A",
          "symbol": "circle"
         },
         "mode": "markers",
         "name": "Haiti",
         "showlegend": true,
         "type": "scattergl",
         "visible": "legendonly",
         "x": [
          2006,
          2008,
          2010,
          2011,
          2012,
          2013,
          2014,
          2015,
          2016,
          2017,
          2018
         ],
         "xaxis": "x",
         "y": [
          0.0080160390757546,
          0.008069720488040201,
          0.0073143399452653,
          0.008223096561919,
          0.0082846830153168,
          0.008342249953858601,
          0.0084008339027692,
          0.0084441278337808,
          0.0085204260794723,
          0.0086958694953203,
          0.0088720985404512
         ],
         "yaxis": "y"
        },
        {
         "hovertemplate": "country=Indonesia<br>year=%{x}<br>pct_new_per_pop_disorders=%{y}<extra></extra>",
         "legendgroup": "Indonesia",
         "marker": {
          "color": "#19d3f3",
          "symbol": "circle"
         },
         "mode": "markers",
         "name": "Indonesia",
         "showlegend": true,
         "type": "scattergl",
         "visible": "legendonly",
         "x": [
          2006,
          2007,
          2008,
          2009,
          2010,
          2011,
          2012,
          2013,
          2014,
          2015,
          2016,
          2017,
          2018
         ],
         "xaxis": "x",
         "y": [
          0.0044744652937722,
          0.0044849600591669,
          0.0044904725597997,
          0.0044971281776576,
          0.0045228838044584,
          0.0045717784651772,
          0.004634974264934999,
          0.0047079451428996,
          0.0047845453481189,
          0.0048582875209584,
          0.0049452146791415,
          0.0050487465620059,
          0.0051515002344677
         ],
         "yaxis": "y"
        },
        {
         "hovertemplate": "country=India<br>year=%{x}<br>pct_new_per_pop_disorders=%{y}<extra></extra>",
         "legendgroup": "India",
         "marker": {
          "color": "#FF6692",
          "symbol": "circle"
         },
         "mode": "markers",
         "name": "India",
         "showlegend": true,
         "type": "scattergl",
         "visible": "legendonly",
         "x": [
          2006,
          2007,
          2008,
          2009,
          2010,
          2011,
          2012,
          2013,
          2014,
          2015,
          2016,
          2017,
          2018
         ],
         "xaxis": "x",
         "y": [
          0.0101250206567438,
          0.0097106427779572,
          0.0091790121993459,
          0.0087330557453009,
          0.0085776779390832,
          0.0086539989510785,
          0.008750392479325901,
          0.0088553420749114,
          0.0089561454116981,
          0.0090444194541096,
          0.0091156658763815,
          0.009177500626458,
          0.009237105748438001
         ],
         "yaxis": "y"
        },
        {
         "hovertemplate": "country=Ireland<br>year=%{x}<br>pct_new_per_pop_disorders=%{y}<extra></extra>",
         "legendgroup": "Ireland",
         "marker": {
          "color": "#B6E880",
          "symbol": "circle"
         },
         "mode": "markers",
         "name": "Ireland",
         "showlegend": true,
         "type": "scattergl",
         "visible": "legendonly",
         "x": [
          2006,
          2008,
          2009,
          2010,
          2011,
          2012,
          2013,
          2014,
          2015,
          2016,
          2017,
          2018
         ],
         "xaxis": "x",
         "y": [
          0.0146524468991216,
          0.0144562909863069,
          0.014337162777163001,
          0.014212379467494301,
          0.014029141797849299,
          0.013790729717963201,
          0.0135656027225816,
          0.013411274227246599,
          0.0133862215884419,
          0.0136876103752539,
          0.014315997519226,
          0.0150189261233992
         ],
         "yaxis": "y"
        },
        {
         "hovertemplate": "country=Israel<br>year=%{x}<br>pct_new_per_pop_disorders=%{y}<extra></extra>",
         "legendgroup": "Israel",
         "marker": {
          "color": "#FF97FF",
          "symbol": "circle"
         },
         "mode": "markers",
         "name": "Israel",
         "showlegend": true,
         "type": "scattergl",
         "visible": "legendonly",
         "x": [
          2006,
          2007,
          2008,
          2009,
          2010,
          2011,
          2012,
          2013,
          2014,
          2015,
          2016,
          2017,
          2018
         ],
         "xaxis": "x",
         "y": [
          0.013414361336780199,
          0.013392208917606901,
          0.0133312977532645,
          0.0132806719825825,
          0.0132371962023909,
          0.0131024999589202,
          0.012908133117892,
          0.0127191433614354,
          0.012516655409610099,
          0.0125742528262825,
          0.0126834303148151,
          0.0128364605534904,
          0.0129884532517757
         ],
         "yaxis": "y"
        },
        {
         "hovertemplate": "country=Jamaica<br>year=%{x}<br>pct_new_per_pop_disorders=%{y}<extra></extra>",
         "legendgroup": "Jamaica",
         "marker": {
          "color": "#FECB52",
          "symbol": "circle"
         },
         "mode": "markers",
         "name": "Jamaica",
         "showlegend": true,
         "type": "scattergl",
         "visible": "legendonly",
         "x": [
          2006,
          2011,
          2013,
          2014,
          2017
         ],
         "xaxis": "x",
         "y": [
          0.008415153711914999,
          0.008639156542362001,
          0.0089422156049308,
          0.0091091824654775,
          0.0095776179290832
         ],
         "yaxis": "y"
        },
        {
         "hovertemplate": "country=Kazakhstan<br>year=%{x}<br>pct_new_per_pop_disorders=%{y}<extra></extra>",
         "legendgroup": "Kazakhstan",
         "marker": {
          "color": "#636efa",
          "symbol": "circle"
         },
         "mode": "markers",
         "name": "Kazakhstan",
         "showlegend": true,
         "type": "scattergl",
         "visible": "legendonly",
         "x": [
          2006,
          2007,
          2008,
          2009,
          2010,
          2011,
          2012,
          2013,
          2014,
          2015,
          2016,
          2017,
          2018
         ],
         "xaxis": "x",
         "y": [
          0.012385801007756301,
          0.012313125349243701,
          0.0122142881280318,
          0.0121185765630011,
          0.0120443745065133,
          0.0120299335346697,
          0.012065303786301,
          0.0121219118368171,
          0.012161665161329,
          0.012156727079117299,
          0.0121157702932838,
          0.0120771241174883,
          0.0120449400022032
         ],
         "yaxis": "y"
        },
        {
         "hovertemplate": "country=Kenya<br>year=%{x}<br>pct_new_per_pop_disorders=%{y}<extra></extra>",
         "legendgroup": "Kenya",
         "marker": {
          "color": "#EF553B",
          "symbol": "circle"
         },
         "mode": "markers",
         "name": "Kenya",
         "showlegend": true,
         "type": "scattergl",
         "visible": "legendonly",
         "x": [
          2006,
          2007,
          2008,
          2009,
          2010,
          2011,
          2012,
          2013,
          2014,
          2015,
          2016,
          2017,
          2018
         ],
         "xaxis": "x",
         "y": [
          0.0065446362256226,
          0.0065442236533934,
          0.0065167982723852,
          0.0065006868027613005,
          0.0065046937125326,
          0.0065219595311921995,
          0.0065342689258992,
          0.0065626213198336,
          0.0066115017903395,
          0.0066888715219433,
          0.0068064138979261005,
          0.006951656135148,
          0.0070951941636079995
         ],
         "yaxis": "y"
        },
        {
         "hovertemplate": "country=Kyrgyzstan<br>year=%{x}<br>pct_new_per_pop_disorders=%{y}<extra></extra>",
         "legendgroup": "Kyrgyzstan",
         "marker": {
          "color": "#00cc96",
          "symbol": "circle"
         },
         "mode": "markers",
         "name": "Kyrgyzstan",
         "showlegend": true,
         "type": "scattergl",
         "visible": "legendonly",
         "x": [
          2006,
          2007,
          2008,
          2009,
          2010,
          2011,
          2012,
          2013,
          2014,
          2015,
          2016,
          2017,
          2018
         ],
         "xaxis": "x",
         "y": [
          0.0124420114689007,
          0.0124332260351426,
          0.0123906738695612,
          0.0123552104111531,
          0.01228307707271,
          0.0123071128039945,
          0.012288713116961301,
          0.012267301949166,
          0.012251393815559,
          0.0122253373646663,
          0.0122104895381073,
          0.0121730663376034,
          0.0121645707984954
         ],
         "yaxis": "y"
        },
        {
         "hovertemplate": "country=Cambodia<br>year=%{x}<br>pct_new_per_pop_disorders=%{y}<extra></extra>",
         "legendgroup": "Cambodia",
         "marker": {
          "color": "#ab63fa",
          "symbol": "circle"
         },
         "mode": "markers",
         "name": "Cambodia",
         "showlegend": true,
         "type": "scattergl",
         "visible": "legendonly",
         "x": [
          2006,
          2007,
          2008,
          2009,
          2010,
          2011,
          2012,
          2013,
          2014,
          2015,
          2016,
          2017,
          2018
         ],
         "xaxis": "x",
         "y": [
          0.0071107841177021,
          0.007148480855156099,
          0.0071638967666538,
          0.0071767229936496,
          0.0072076476301229,
          0.0072804538770977,
          0.0073887171228825,
          0.0074911588877006,
          0.0075716408034632,
          0.007634269414920101,
          0.0076688362415963,
          0.007657783221763599,
          0.0076539118447623
         ],
         "yaxis": "y"
        },
        {
         "hovertemplate": "country=South Korea<br>year=%{x}<br>pct_new_per_pop_disorders=%{y}<extra></extra>",
         "legendgroup": "South Korea",
         "marker": {
          "color": "#FFA15A",
          "symbol": "circle"
         },
         "mode": "markers",
         "name": "South Korea",
         "showlegend": true,
         "type": "scattergl",
         "visible": "legendonly",
         "x": [
          2006,
          2007,
          2008,
          2009,
          2010,
          2011,
          2012,
          2013,
          2014,
          2015,
          2016,
          2017,
          2018
         ],
         "xaxis": "x",
         "y": [
          0.0070888211224699,
          0.0072493879476572005,
          0.0074245652846099,
          0.0075906246394226995,
          0.007720319904291,
          0.0078223153043092,
          0.0079264522280162,
          0.008020670093314,
          0.0081017494030225,
          0.0081640715176963,
          0.008154790528154399,
          0.0080809250121321,
          0.0080036347417934
         ],
         "yaxis": "y"
        },
        {
         "hovertemplate": "country=Kuwait<br>year=%{x}<br>pct_new_per_pop_disorders=%{y}<extra></extra>",
         "legendgroup": "Kuwait",
         "marker": {
          "color": "#19d3f3",
          "symbol": "circle"
         },
         "mode": "markers",
         "name": "Kuwait",
         "showlegend": true,
         "type": "scattergl",
         "visible": "legendonly",
         "x": [
          2006,
          2009,
          2010,
          2011,
          2012,
          2013,
          2014,
          2015,
          2016,
          2017
         ],
         "xaxis": "x",
         "y": [
          0.0147629859950322,
          0.0148410023731378,
          0.014924435635655,
          0.0150376020799738,
          0.0151541363344437,
          0.0152759083642902,
          0.0154055408132442,
          0.015536615039942199,
          0.0156878347915725,
          0.0158478370619628
         ],
         "yaxis": "y"
        },
        {
         "hovertemplate": "country=Laos<br>year=%{x}<br>pct_new_per_pop_disorders=%{y}<extra></extra>",
         "legendgroup": "Laos",
         "marker": {
          "color": "#FF6692",
          "symbol": "circle"
         },
         "mode": "markers",
         "name": "Laos",
         "showlegend": true,
         "type": "scattergl",
         "visible": "legendonly",
         "x": [
          2006,
          2007,
          2008,
          2011,
          2012,
          2017,
          2018
         ],
         "xaxis": "x",
         "y": [
          0.0056216250531346,
          0.0056383951248017,
          0.0056637245820332,
          0.0058241675547179,
          0.0059500020591193,
          0.0064016316231348,
          0.0064268682341285
         ],
         "yaxis": "y"
        },
        {
         "hovertemplate": "country=Sri Lanka<br>year=%{x}<br>pct_new_per_pop_disorders=%{y}<extra></extra>",
         "legendgroup": "Sri Lanka",
         "marker": {
          "color": "#B6E880",
          "symbol": "circle"
         },
         "mode": "markers",
         "name": "Sri Lanka",
         "showlegend": true,
         "type": "scattergl",
         "visible": "legendonly",
         "x": [
          2006,
          2007,
          2008,
          2009,
          2010,
          2011,
          2012,
          2013,
          2014,
          2015,
          2017,
          2018
         ],
         "xaxis": "x",
         "y": [
          0.0072383959697018,
          0.0071403782796349005,
          0.0069677333162712005,
          0.0068868462077741,
          0.0068876536172299,
          0.0070073733781404,
          0.0070879181521232,
          0.0071629146944139,
          0.0072361179616385,
          0.0072944146218127,
          0.0074064230599815,
          0.0074706328060251005
         ],
         "yaxis": "y"
        },
        {
         "hovertemplate": "country=Lithuania<br>year=%{x}<br>pct_new_per_pop_disorders=%{y}<extra></extra>",
         "legendgroup": "Lithuania",
         "marker": {
          "color": "#FF97FF",
          "symbol": "circle"
         },
         "mode": "markers",
         "name": "Lithuania",
         "showlegend": true,
         "type": "scattergl",
         "visible": "legendonly",
         "x": [
          2006,
          2007,
          2008,
          2009,
          2010,
          2011,
          2012,
          2013,
          2014,
          2015,
          2016,
          2017,
          2018
         ],
         "xaxis": "x",
         "y": [
          0.0171320294775695,
          0.0170809096214564,
          0.0170154978689651,
          0.0169679280045859,
          0.0169664422793388,
          0.0169994620570715,
          0.0170334730661889,
          0.017067365163203698,
          0.017103358150377702,
          0.0171414925701257,
          0.017187096363838,
          0.0172443411862742,
          0.0173050241281075
         ],
         "yaxis": "y"
        },
        {
         "hovertemplate": "country=Latvia<br>year=%{x}<br>pct_new_per_pop_disorders=%{y}<extra></extra>",
         "legendgroup": "Latvia",
         "marker": {
          "color": "#FECB52",
          "symbol": "circle"
         },
         "mode": "markers",
         "name": "Latvia",
         "showlegend": true,
         "type": "scattergl",
         "visible": "legendonly",
         "x": [
          2006,
          2007,
          2008,
          2009,
          2011,
          2012,
          2013,
          2014,
          2015,
          2016,
          2017,
          2018
         ],
         "xaxis": "x",
         "y": [
          0.0162597021441931,
          0.0160849766139286,
          0.0159115347096899,
          0.0157870348413057,
          0.0158018082908781,
          0.015868895013706398,
          0.0159436547817265,
          0.0160136495051602,
          0.0160717589457713,
          0.0161610928865842,
          0.0163079046458104,
          0.016472745274716302
         ],
         "yaxis": "y"
        },
        {
         "hovertemplate": "country=Moldova<br>year=%{x}<br>pct_new_per_pop_disorders=%{y}<extra></extra>",
         "legendgroup": "Moldova",
         "marker": {
          "color": "#636efa",
          "symbol": "circle"
         },
         "mode": "markers",
         "name": "Moldova",
         "showlegend": true,
         "type": "scattergl",
         "visible": "legendonly",
         "x": [
          2006,
          2007,
          2008,
          2009,
          2010,
          2011,
          2012,
          2013,
          2014,
          2015,
          2016,
          2017,
          2018
         ],
         "xaxis": "x",
         "y": [
          0.012835429469765,
          0.0128076122789648,
          0.012771298482338,
          0.0127536688891767,
          0.0127771766001617,
          0.012836478986037101,
          0.0129069436920599,
          0.012983880506832501,
          0.0130622244707423,
          0.0131392372973077,
          0.013212111274552,
          0.0132843271299057,
          0.0133615952970609
         ],
         "yaxis": "y"
        },
        {
         "hovertemplate": "country=Madagascar<br>year=%{x}<br>pct_new_per_pop_disorders=%{y}<extra></extra>",
         "legendgroup": "Madagascar",
         "marker": {
          "color": "#EF553B",
          "symbol": "circle"
         },
         "mode": "markers",
         "name": "Madagascar",
         "showlegend": true,
         "type": "scattergl",
         "visible": "legendonly",
         "x": [
          2006,
          2008,
          2011,
          2012,
          2013,
          2014,
          2015,
          2016,
          2017,
          2018
         ],
         "xaxis": "x",
         "y": [
          0.0067395541158322,
          0.0067604578050756,
          0.0068091467294821,
          0.0068539541247833995,
          0.0069067651597701,
          0.0069885660224597,
          0.0070865536416659,
          0.0072132732616306,
          0.0073752262284358,
          0.0075274629516406
         ],
         "yaxis": "y"
        },
        {
         "hovertemplate": "country=Mali<br>year=%{x}<br>pct_new_per_pop_disorders=%{y}<extra></extra>",
         "legendgroup": "Mali",
         "marker": {
          "color": "#00cc96",
          "symbol": "circle"
         },
         "mode": "markers",
         "name": "Mali",
         "showlegend": true,
         "type": "scattergl",
         "visible": "legendonly",
         "x": [
          2006,
          2008,
          2009,
          2010,
          2011,
          2012,
          2013,
          2014,
          2015,
          2016,
          2017,
          2018
         ],
         "xaxis": "x",
         "y": [
          0.0046061441125089,
          0.0045995295667744,
          0.0046025377939167,
          0.0046098710826245,
          0.0046435393509879005,
          0.0047196900117619,
          0.0048158818960832,
          0.0049386688171299,
          0.0050511737496311,
          0.0051707841706692,
          0.0052795735198537,
          0.0053612180075921995
         ],
         "yaxis": "y"
        },
        {
         "hovertemplate": "country=Mozambique<br>year=%{x}<br>pct_new_per_pop_disorders=%{y}<extra></extra>",
         "legendgroup": "Mozambique",
         "marker": {
          "color": "#ab63fa",
          "symbol": "circle"
         },
         "mode": "markers",
         "name": "Mozambique",
         "showlegend": true,
         "type": "scattergl",
         "visible": "legendonly",
         "x": [
          2006,
          2007,
          2008,
          2011,
          2015,
          2017,
          2018
         ],
         "xaxis": "x",
         "y": [
          0.007654417556163799,
          0.0077105079727106006,
          0.0077552526101079,
          0.0078939179059072,
          0.0082467673794998,
          0.0084027769432668,
          0.0084734049878925
         ],
         "yaxis": "y"
        },
        {
         "hovertemplate": "country=Malawi<br>year=%{x}<br>pct_new_per_pop_disorders=%{y}<extra></extra>",
         "legendgroup": "Malawi",
         "marker": {
          "color": "#FFA15A",
          "symbol": "circle"
         },
         "mode": "markers",
         "name": "Malawi",
         "showlegend": true,
         "type": "scattergl",
         "visible": "legendonly",
         "x": [
          2006,
          2007,
          2009,
          2011,
          2012,
          2013,
          2014,
          2015,
          2016,
          2017,
          2018
         ],
         "xaxis": "x",
         "y": [
          0.0053631221165411,
          0.0053185218516605,
          0.0052191661841939005,
          0.0053146025183922994,
          0.0054901549095645,
          0.0056936873419516,
          0.0058993699755893,
          0.006064947839637401,
          0.0061801077011879,
          0.006272449939361,
          0.0063652095875105
         ],
         "yaxis": "y"
        },
        {
         "hovertemplate": "country=Malaysia<br>year=%{x}<br>pct_new_per_pop_disorders=%{y}<extra></extra>",
         "legendgroup": "Malaysia",
         "marker": {
          "color": "#19d3f3",
          "symbol": "circle"
         },
         "mode": "markers",
         "name": "Malaysia",
         "showlegend": true,
         "type": "scattergl",
         "visible": "legendonly",
         "x": [
          2006,
          2007,
          2008,
          2009,
          2010,
          2011,
          2012,
          2013,
          2014,
          2015,
          2018
         ],
         "xaxis": "x",
         "y": [
          0.0093421109746553,
          0.0093241314259833,
          0.009286525103228,
          0.009252143514670099,
          0.0092369667401601,
          0.009280017045128,
          0.0093804538790314,
          0.00950607508253,
          0.0096312523736488,
          0.0097233521867734,
          0.009997670059893701
         ],
         "yaxis": "y"
        },
        {
         "hovertemplate": "country=Niger<br>year=%{x}<br>pct_new_per_pop_disorders=%{y}<extra></extra>",
         "legendgroup": "Niger",
         "marker": {
          "color": "#FF6692",
          "symbol": "circle"
         },
         "mode": "markers",
         "name": "Niger",
         "showlegend": true,
         "type": "scattergl",
         "visible": "legendonly",
         "x": [
          2006,
          2007,
          2008,
          2009,
          2010,
          2011,
          2012,
          2013,
          2014,
          2015,
          2016,
          2017,
          2018
         ],
         "xaxis": "x",
         "y": [
          0.0050012927653777,
          0.005019374467502001,
          0.0050299418500578995,
          0.0050579274286763,
          0.005070121563999301,
          0.0051158006672864,
          0.0051947683313295,
          0.0053093098503988,
          0.0054129136595915,
          0.005498740994258,
          0.0055722418300745,
          0.0056497112768983,
          0.0057057754553022
         ],
         "yaxis": "y"
        },
        {
         "hovertemplate": "country=Nigeria<br>year=%{x}<br>pct_new_per_pop_disorders=%{y}<extra></extra>",
         "legendgroup": "Nigeria",
         "marker": {
          "color": "#B6E880",
          "symbol": "circle"
         },
         "mode": "markers",
         "name": "Nigeria",
         "showlegend": true,
         "type": "scattergl",
         "visible": "legendonly",
         "x": [
          2006,
          2007,
          2008,
          2009,
          2010,
          2012,
          2013,
          2015,
          2016,
          2017,
          2018
         ],
         "xaxis": "x",
         "y": [
          0.0062413709626744,
          0.0061553905432685,
          0.0060306175537450995,
          0.0059253913084743,
          0.005872565159189,
          0.0057758097364415,
          0.0057203594130795996,
          0.0056946224114411996,
          0.0057480996926942,
          0.0058104522621467,
          0.005888833533337801
         ],
         "yaxis": "y"
        },
        {
         "hovertemplate": "country=Nicaragua<br>year=%{x}<br>pct_new_per_pop_disorders=%{y}<extra></extra>",
         "legendgroup": "Nicaragua",
         "marker": {
          "color": "#FF97FF",
          "symbol": "circle"
         },
         "mode": "markers",
         "name": "Nicaragua",
         "showlegend": true,
         "type": "scattergl",
         "visible": "legendonly",
         "x": [
          2006,
          2007,
          2008,
          2009,
          2010,
          2011,
          2012,
          2013,
          2014,
          2015,
          2016,
          2017,
          2018
         ],
         "xaxis": "x",
         "y": [
          0.010304269632788599,
          0.0104074024128498,
          0.010501684520589999,
          0.0105811252150491,
          0.010658373331177199,
          0.0107429998365446,
          0.010823470060887,
          0.0108989105098064,
          0.0109700102943472,
          0.0110360392075171,
          0.0109919839016767,
          0.0111439416703197,
          0.0111784063566164
         ],
         "yaxis": "y"
        },
        {
         "hovertemplate": "country=Norway<br>year=%{x}<br>pct_new_per_pop_disorders=%{y}<extra></extra>",
         "legendgroup": "Norway",
         "marker": {
          "color": "#FECB52",
          "symbol": "circle"
         },
         "mode": "markers",
         "name": "Norway",
         "showlegend": true,
         "type": "scattergl",
         "visible": "legendonly",
         "x": [
          2006,
          2008,
          2012,
          2014,
          2015,
          2016,
          2017,
          2018
         ],
         "xaxis": "x",
         "y": [
          0.012869438655629901,
          0.0127709527191748,
          0.0127943864448481,
          0.012933907179495701,
          0.012983808484431,
          0.0130020637836421,
          0.0130008371248212,
          0.0129959375775048
         ],
         "yaxis": "y"
        },
        {
         "hovertemplate": "country=Nepal<br>year=%{x}<br>pct_new_per_pop_disorders=%{y}<extra></extra>",
         "legendgroup": "Nepal",
         "marker": {
          "color": "#636efa",
          "symbol": "circle"
         },
         "mode": "markers",
         "name": "Nepal",
         "showlegend": true,
         "type": "scattergl",
         "visible": "legendonly",
         "x": [
          2006,
          2007,
          2008,
          2009,
          2010,
          2011,
          2012,
          2013,
          2014,
          2015,
          2016,
          2017,
          2018
         ],
         "xaxis": "x",
         "y": [
          0.0120740709554696,
          0.012351547733933899,
          0.0125898212120981,
          0.0128204182763127,
          0.0130221299420247,
          0.0131155818454673,
          0.013067190762952001,
          0.0129838883770921,
          0.0129247203378949,
          0.0128663727321404,
          0.013255486208781302,
          0.0135154628652954,
          0.013790022910881999
         ],
         "yaxis": "y"
        },
        {
         "hovertemplate": "country=New Zealand<br>year=%{x}<br>pct_new_per_pop_disorders=%{y}<extra></extra>",
         "legendgroup": "New Zealand",
         "marker": {
          "color": "#EF553B",
          "symbol": "circle"
         },
         "mode": "markers",
         "name": "New Zealand",
         "showlegend": true,
         "type": "scattergl",
         "visible": "legendonly",
         "x": [
          2006,
          2007,
          2008,
          2010,
          2011,
          2012,
          2013,
          2014,
          2015,
          2016,
          2017,
          2018
         ],
         "xaxis": "x",
         "y": [
          0.0110132518283343,
          0.0109245534461498,
          0.010811208467346399,
          0.0106356237310279,
          0.0105987771715071,
          0.010586142096389,
          0.010590101796434801,
          0.0106097345481365,
          0.0106382620917719,
          0.0106811473200374,
          0.010742408269877,
          0.01080350266685
         ],
         "yaxis": "y"
        },
        {
         "hovertemplate": "country=Panama<br>year=%{x}<br>pct_new_per_pop_disorders=%{y}<extra></extra>",
         "legendgroup": "Panama",
         "marker": {
          "color": "#00cc96",
          "symbol": "circle"
         },
         "mode": "markers",
         "name": "Panama",
         "showlegend": true,
         "type": "scattergl",
         "visible": "legendonly",
         "x": [
          2006,
          2007,
          2008,
          2009,
          2010,
          2011,
          2012,
          2013,
          2014,
          2015,
          2016,
          2017,
          2018
         ],
         "xaxis": "x",
         "y": [
          0.008424813632895,
          0.0085576150248406,
          0.00870990503127,
          0.0088508441364757,
          0.0089397733860353,
          0.0089888675913583,
          0.0090370072123382,
          0.0090849841284172,
          0.0091301477519989,
          0.0091758865133552,
          0.009046904305616001,
          0.0092489879576681,
          0.0092529432996776
         ],
         "yaxis": "y"
        },
        {
         "hovertemplate": "country=Peru<br>year=%{x}<br>pct_new_per_pop_disorders=%{y}<extra></extra>",
         "legendgroup": "Peru",
         "marker": {
          "color": "#ab63fa",
          "symbol": "circle"
         },
         "mode": "markers",
         "name": "Peru",
         "showlegend": true,
         "type": "scattergl",
         "visible": "legendonly",
         "x": [
          2006,
          2007,
          2008,
          2009,
          2010,
          2011,
          2012,
          2013,
          2014,
          2015,
          2016,
          2017,
          2018
         ],
         "xaxis": "x",
         "y": [
          0.005630383176445101,
          0.0056361596789767,
          0.0056356567661983,
          0.0056435084519696,
          0.0056833673185599995,
          0.0057529116674149006,
          0.005829519667775,
          0.0059027169284795004,
          0.00597214643571,
          0.0060335520177137,
          0.0060781913267876995,
          0.0061113842170814,
          0.0061683659152509
         ],
         "yaxis": "y"
        },
        {
         "hovertemplate": "country=Philippines<br>year=%{x}<br>pct_new_per_pop_disorders=%{y}<extra></extra>",
         "legendgroup": "Philippines",
         "marker": {
          "color": "#FFA15A",
          "symbol": "circle"
         },
         "mode": "markers",
         "name": "Philippines",
         "showlegend": true,
         "type": "scattergl",
         "visible": "legendonly",
         "x": [
          2006,
          2007,
          2008,
          2009,
          2010,
          2011,
          2012,
          2013,
          2014,
          2015,
          2016,
          2017,
          2018
         ],
         "xaxis": "x",
         "y": [
          0.0054174169935847,
          0.005480685106901299,
          0.0055430523683439,
          0.005607167618150199,
          0.0056816209086001,
          0.0057681499672985,
          0.0058791455440992,
          0.005976065603533901,
          0.0061006453625997,
          0.0061896084721322,
          0.006262875110731399,
          0.0063660971629655,
          0.0064659367104252
         ],
         "yaxis": "y"
        },
        {
         "hovertemplate": "country=Portugal<br>year=%{x}<br>pct_new_per_pop_disorders=%{y}<extra></extra>",
         "legendgroup": "Portugal",
         "marker": {
          "color": "#19d3f3",
          "symbol": "circle"
         },
         "mode": "markers",
         "name": "Portugal",
         "showlegend": true,
         "type": "scattergl",
         "visible": "legendonly",
         "x": [
          2006,
          2008,
          2010,
          2011,
          2012,
          2013,
          2014,
          2015,
          2016,
          2017,
          2018
         ],
         "xaxis": "x",
         "y": [
          0.0203087703718251,
          0.0204565132008056,
          0.0205457415053965,
          0.02029460899403,
          0.0197132613678008,
          0.0190220053268935,
          0.0184384510677841,
          0.018200568934962802,
          0.018396650621024798,
          0.0188200717908399,
          0.0192712963488741
         ],
         "yaxis": "y"
        },
        {
         "hovertemplate": "country=Paraguay<br>year=%{x}<br>pct_new_per_pop_disorders=%{y}<extra></extra>",
         "legendgroup": "Paraguay",
         "marker": {
          "color": "#FF6692",
          "symbol": "circle"
         },
         "mode": "markers",
         "name": "Paraguay",
         "showlegend": true,
         "type": "scattergl",
         "visible": "legendonly",
         "x": [
          2006,
          2007,
          2008,
          2009,
          2010,
          2011,
          2012,
          2013,
          2014,
          2015,
          2016,
          2017
         ],
         "xaxis": "x",
         "y": [
          0.0080392947914962,
          0.0082028519368993,
          0.0083663664884499,
          0.0085182573528351,
          0.0086477198930981,
          0.008761428424818,
          0.008870989055520199,
          0.0089724040846711,
          0.0090651066610159,
          0.0091446383063908,
          0.0092081982565291,
          0.0092643795254167
         ],
         "yaxis": "y"
        },
        {
         "hovertemplate": "country=Russia<br>year=%{x}<br>pct_new_per_pop_disorders=%{y}<extra></extra>",
         "legendgroup": "Russia",
         "marker": {
          "color": "#B6E880",
          "symbol": "circle"
         },
         "mode": "markers",
         "name": "Russia",
         "showlegend": true,
         "type": "scattergl",
         "visible": "legendonly",
         "x": [
          2006,
          2007,
          2008,
          2009,
          2010,
          2011,
          2012,
          2013,
          2014,
          2015,
          2016,
          2017,
          2018
         ],
         "xaxis": "x",
         "y": [
          0.0113031992436763,
          0.0111827600143864,
          0.011042944120315801,
          0.0109211513629854,
          0.0108524840110759,
          0.010866699000914101,
          0.0109424748007666,
          0.0110393513044433,
          0.0111192278958723,
          0.0111427265949094,
          0.0111286453510086,
          0.0111260885507491,
          0.011134475012765
         ],
         "yaxis": "y"
        },
        {
         "hovertemplate": "country=Rwanda<br>year=%{x}<br>pct_new_per_pop_disorders=%{y}<extra></extra>",
         "legendgroup": "Rwanda",
         "marker": {
          "color": "#FF97FF",
          "symbol": "circle"
         },
         "mode": "markers",
         "name": "Rwanda",
         "showlegend": true,
         "type": "scattergl",
         "visible": "legendonly",
         "x": [
          2006,
          2008,
          2009,
          2011,
          2012,
          2013,
          2014,
          2015,
          2016,
          2017,
          2018
         ],
         "xaxis": "x",
         "y": [
          0.008603047080382,
          0.0083075337202751,
          0.008156172474720499,
          0.0083344409892211,
          0.0085641516728186,
          0.0088261691829509,
          0.0090751256329928,
          0.0092491344802741,
          0.0093647368180795,
          0.009469942135507699,
          0.009571655941224801
         ],
         "yaxis": "y"
        },
        {
         "hovertemplate": "country=Senegal<br>year=%{x}<br>pct_new_per_pop_disorders=%{y}<extra></extra>",
         "legendgroup": "Senegal",
         "marker": {
          "color": "#FECB52",
          "symbol": "circle"
         },
         "mode": "markers",
         "name": "Senegal",
         "showlegend": true,
         "type": "scattergl",
         "visible": "legendonly",
         "x": [
          2006,
          2007,
          2008,
          2009,
          2010,
          2011,
          2012,
          2013,
          2014,
          2015,
          2016,
          2017,
          2018
         ],
         "xaxis": "x",
         "y": [
          0.0065976361993611,
          0.0066168111253208,
          0.0066221391931944006,
          0.0066470680007705,
          0.0066445431272296,
          0.0067388292731335,
          0.0068504853841626,
          0.0070292013255702,
          0.0072718382715486,
          0.0073890390140429,
          0.0075599638952697,
          0.0076967654487836,
          0.0077996141491847
         ],
         "yaxis": "y"
        },
        {
         "hovertemplate": "country=Sierra Leone<br>year=%{x}<br>pct_new_per_pop_disorders=%{y}<extra></extra>",
         "legendgroup": "Sierra Leone",
         "marker": {
          "color": "#636efa",
          "symbol": "circle"
         },
         "mode": "markers",
         "name": "Sierra Leone",
         "showlegend": true,
         "type": "scattergl",
         "visible": "legendonly",
         "x": [
          2006,
          2007,
          2008,
          2010,
          2011,
          2013,
          2014,
          2015,
          2016,
          2017,
          2018
         ],
         "xaxis": "x",
         "y": [
          0.0068903097928508005,
          0.006918263574904,
          0.0069177657597903,
          0.006978221267337099,
          0.0070593891801546,
          0.0072977178076743,
          0.0074128336001977,
          0.007515253709071999,
          0.0076044512205337995,
          0.0076766943320797,
          0.0077709244180354
         ],
         "yaxis": "y"
        },
        {
         "hovertemplate": "country=El Salvador<br>year=%{x}<br>pct_new_per_pop_disorders=%{y}<extra></extra>",
         "legendgroup": "El Salvador",
         "marker": {
          "color": "#EF553B",
          "symbol": "circle"
         },
         "mode": "markers",
         "name": "El Salvador",
         "showlegend": true,
         "type": "scattergl",
         "visible": "legendonly",
         "x": [
          2006,
          2007,
          2008,
          2009,
          2010,
          2011,
          2012,
          2013,
          2014,
          2015,
          2016,
          2017,
          2018
         ],
         "xaxis": "x",
         "y": [
          0.0098759462960186,
          0.010059080979936099,
          0.0102462781398346,
          0.010405810882313,
          0.0105420298435762,
          0.0106267993281037,
          0.0106931710269942,
          0.0107446351488581,
          0.0107902472440732,
          0.0108378905753868,
          0.010914799878962399,
          0.0109979751276706,
          0.011029694894900499
         ],
         "yaxis": "y"
        },
        {
         "hovertemplate": "country=Slovakia<br>year=%{x}<br>pct_new_per_pop_disorders=%{y}<extra></extra>",
         "legendgroup": "Slovakia",
         "marker": {
          "color": "#00cc96",
          "symbol": "circle"
         },
         "mode": "markers",
         "name": "Slovakia",
         "showlegend": true,
         "type": "scattergl",
         "visible": "legendonly",
         "x": [
          2006,
          2010,
          2011,
          2012,
          2013,
          2014,
          2015,
          2016,
          2017,
          2018
         ],
         "xaxis": "x",
         "y": [
          0.0118708824937171,
          0.0117142262024418,
          0.011689921521371001,
          0.011661542451523099,
          0.0116405663512479,
          0.011639342653912199,
          0.011669263836143999,
          0.0117209542402255,
          0.0117726686678086,
          0.0118247161293392
         ],
         "yaxis": "y"
        },
        {
         "hovertemplate": "country=Slovenia<br>year=%{x}<br>pct_new_per_pop_disorders=%{y}<extra></extra>",
         "legendgroup": "Slovenia",
         "marker": {
          "color": "#ab63fa",
          "symbol": "circle"
         },
         "mode": "markers",
         "name": "Slovenia",
         "showlegend": true,
         "type": "scattergl",
         "visible": "legendonly",
         "x": [
          2006,
          2009,
          2010,
          2011,
          2012,
          2013,
          2014,
          2015,
          2016,
          2017,
          2018
         ],
         "xaxis": "x",
         "y": [
          0.0154553639235999,
          0.0147926546176382,
          0.0146637147350377,
          0.014606207552958701,
          0.0145732111273276,
          0.0145605991497721,
          0.01456737292697,
          0.0145882771890203,
          0.014623249885359,
          0.014664368380112999,
          0.014708621475945202
         ],
         "yaxis": "y"
        },
        {
         "hovertemplate": "country=Chad<br>year=%{x}<br>pct_new_per_pop_disorders=%{y}<extra></extra>",
         "legendgroup": "Chad",
         "marker": {
          "color": "#FFA15A",
          "symbol": "circle"
         },
         "mode": "markers",
         "name": "Chad",
         "showlegend": true,
         "type": "scattergl",
         "visible": "legendonly",
         "x": [
          2006,
          2007,
          2008,
          2009,
          2010,
          2011,
          2012,
          2013,
          2014,
          2015,
          2016,
          2017,
          2018
         ],
         "xaxis": "x",
         "y": [
          0.0070083178902319,
          0.0070565366142425,
          0.0070605718453364006,
          0.0070811404009491,
          0.0070868753592618,
          0.0070798748940496,
          0.007048175193970101,
          0.0070192688533835,
          0.0069911816762608,
          0.0070057683084322996,
          0.007066352450154,
          0.0071447389052664,
          0.007214325216929301
         ],
         "yaxis": "y"
        },
        {
         "hovertemplate": "country=Togo<br>year=%{x}<br>pct_new_per_pop_disorders=%{y}<extra></extra>",
         "legendgroup": "Togo",
         "marker": {
          "color": "#19d3f3",
          "symbol": "circle"
         },
         "mode": "markers",
         "name": "Togo",
         "showlegend": true,
         "type": "scattergl",
         "visible": "legendonly",
         "x": [
          2006,
          2008,
          2011,
          2014,
          2015,
          2016,
          2017,
          2018
         ],
         "xaxis": "x",
         "y": [
          0.0065835168690509,
          0.0066984535560899,
          0.006926876771669701,
          0.0071439635088127,
          0.0072611555639384,
          0.0074106570927062005,
          0.0075895650319673,
          0.0077401995122026
         ],
         "yaxis": "y"
        },
        {
         "hovertemplate": "country=Thailand<br>year=%{x}<br>pct_new_per_pop_disorders=%{y}<extra></extra>",
         "legendgroup": "Thailand",
         "marker": {
          "color": "#FF6692",
          "symbol": "circle"
         },
         "mode": "markers",
         "name": "Thailand",
         "showlegend": true,
         "type": "scattergl",
         "visible": "legendonly",
         "x": [
          2006,
          2007,
          2008,
          2009,
          2010,
          2011,
          2012,
          2013,
          2014,
          2015,
          2016,
          2017,
          2018
         ],
         "xaxis": "x",
         "y": [
          0.006576690235441,
          0.0065893420810178,
          0.0065842458756476,
          0.006569473423003599,
          0.0065978924508897,
          0.0066831712457664,
          0.0067762635364905,
          0.0068618746642647,
          0.0069451314788755,
          0.007016316112001601,
          0.0070701899838072,
          0.0071152086511044,
          0.0071545832889950995
         ],
         "yaxis": "y"
        },
        {
         "hovertemplate": "country=Tajikistan<br>year=%{x}<br>pct_new_per_pop_disorders=%{y}<extra></extra>",
         "legendgroup": "Tajikistan",
         "marker": {
          "color": "#B6E880",
          "symbol": "circle"
         },
         "mode": "markers",
         "name": "Tajikistan",
         "showlegend": true,
         "type": "scattergl",
         "visible": "legendonly",
         "x": [
          2006,
          2007,
          2008,
          2009,
          2010,
          2011,
          2012,
          2013,
          2014,
          2015,
          2016,
          2017,
          2018
         ],
         "xaxis": "x",
         "y": [
          0.007793256645063,
          0.0078850574285864,
          0.0079634265064566,
          0.0080887607693055,
          0.0081682383562568,
          0.0082505370667123,
          0.00832078851406,
          0.0083959703398443,
          0.0084705145258994,
          0.0085496110114876,
          0.008645800762066301,
          0.0087660329163864,
          0.0088847637222063
         ],
         "yaxis": "y"
        },
        {
         "hovertemplate": "country=Trinidad and Tobago<br>year=%{x}<br>pct_new_per_pop_disorders=%{y}<extra></extra>",
         "legendgroup": "Trinidad and Tobago",
         "marker": {
          "color": "#FF97FF",
          "symbol": "circle"
         },
         "mode": "markers",
         "name": "Trinidad and Tobago",
         "showlegend": true,
         "type": "scattergl",
         "visible": "legendonly",
         "x": [
          2006,
          2008,
          2011,
          2013,
          2017
         ],
         "xaxis": "x",
         "y": [
          0.012638659628815399,
          0.012631795253464001,
          0.0126794140998584,
          0.0128219925049132,
          0.0130530177149785
         ],
         "yaxis": "y"
        },
        {
         "hovertemplate": "country=Taiwan<br>year=%{x}<br>pct_new_per_pop_disorders=%{y}<extra></extra>",
         "legendgroup": "Taiwan",
         "marker": {
          "color": "#FECB52",
          "symbol": "circle"
         },
         "mode": "markers",
         "name": "Taiwan",
         "showlegend": true,
         "type": "scattergl",
         "visible": "legendonly",
         "x": [
          2006,
          2008,
          2010,
          2011,
          2012,
          2013,
          2014,
          2015,
          2016,
          2017,
          2018
         ],
         "xaxis": "x",
         "y": [
          0.0087778225144966,
          0.0087854688238968,
          0.008832445118957,
          0.0088826752425261,
          0.0089125637196157,
          0.0089308896310873,
          0.0089430447392296,
          0.0089588180529775,
          0.008958949812367,
          0.0089370816950965,
          0.0089051488181628
         ],
         "yaxis": "y"
        },
        {
         "hovertemplate": "country=Tanzania<br>year=%{x}<br>pct_new_per_pop_disorders=%{y}<extra></extra>",
         "legendgroup": "Tanzania",
         "marker": {
          "color": "#636efa",
          "symbol": "circle"
         },
         "mode": "markers",
         "name": "Tanzania",
         "showlegend": true,
         "type": "scattergl",
         "visible": "legendonly",
         "x": [
          2006,
          2007,
          2008,
          2009,
          2010,
          2011,
          2012,
          2013,
          2014,
          2015,
          2016,
          2017,
          2018
         ],
         "xaxis": "x",
         "y": [
          0.007078915147461401,
          0.007116932659504,
          0.0071530087835787,
          0.0072048279719948,
          0.0072649342752621,
          0.0073695003343794,
          0.0075253121506787,
          0.007685991368843,
          0.0078358132987865,
          0.0079936161844662,
          0.0081260729108817,
          0.0082516311788422,
          0.0083697879686728
         ],
         "yaxis": "y"
        },
        {
         "hovertemplate": "country=Uganda<br>year=%{x}<br>pct_new_per_pop_disorders=%{y}<extra></extra>",
         "legendgroup": "Uganda",
         "marker": {
          "color": "#EF553B",
          "symbol": "circle"
         },
         "mode": "markers",
         "name": "Uganda",
         "showlegend": true,
         "type": "scattergl",
         "visible": "legendonly",
         "x": [
          2006,
          2007,
          2008,
          2009,
          2010,
          2011,
          2012,
          2013,
          2014,
          2015,
          2016,
          2017,
          2018
         ],
         "xaxis": "x",
         "y": [
          0.0099744880333835,
          0.009802515443792,
          0.0095602351261669,
          0.0093173205691997,
          0.0091818219260455,
          0.0090684015153251,
          0.008921351010516101,
          0.0088309146876321,
          0.008782999489270402,
          0.0088678029269622,
          0.0090013702156317,
          0.0091881779198298,
          0.0093799118270167
         ],
         "yaxis": "y"
        },
        {
         "hovertemplate": "country=Ukraine<br>year=%{x}<br>pct_new_per_pop_disorders=%{y}<extra></extra>",
         "legendgroup": "Ukraine",
         "marker": {
          "color": "#00cc96",
          "symbol": "circle"
         },
         "mode": "markers",
         "name": "Ukraine",
         "showlegend": true,
         "type": "scattergl",
         "visible": "legendonly",
         "x": [
          2006,
          2007,
          2008,
          2009,
          2010,
          2011,
          2012,
          2013,
          2014,
          2015,
          2016,
          2017,
          2018
         ],
         "xaxis": "x",
         "y": [
          0.017105692902505097,
          0.0169171388228705,
          0.016707256777643998,
          0.0165113069782921,
          0.0163582569179943,
          0.0161906095238374,
          0.0159756484448006,
          0.0157644054546262,
          0.015556182447710499,
          0.0155609417769881,
          0.0156404020641432,
          0.0157307678205584,
          0.0158276177988414
         ],
         "yaxis": "y"
        },
        {
         "hovertemplate": "country=Uruguay<br>year=%{x}<br>pct_new_per_pop_disorders=%{y}<extra></extra>",
         "legendgroup": "Uruguay",
         "marker": {
          "color": "#ab63fa",
          "symbol": "circle"
         },
         "mode": "markers",
         "name": "Uruguay",
         "showlegend": true,
         "type": "scattergl",
         "visible": "legendonly",
         "x": [
          2006,
          2007,
          2008,
          2009,
          2010,
          2011,
          2012,
          2013,
          2014,
          2015,
          2016,
          2017,
          2018
         ],
         "xaxis": "x",
         "y": [
          0.0090864552666448,
          0.0091608658314559,
          0.009243197051130199,
          0.0093320205166684,
          0.009424016453637201,
          0.0095792131443979,
          0.009819893603878301,
          0.010081439177445601,
          0.010299972958265501,
          0.010407354312939699,
          0.01041522755868,
          0.0104030109906716,
          0.010391613442638
         ],
         "yaxis": "y"
        },
        {
         "hovertemplate": "country=United States<br>year=%{x}<br>pct_new_per_pop_disorders=%{y}<extra></extra>",
         "legendgroup": "United States",
         "marker": {
          "color": "#FFA15A",
          "symbol": "circle"
         },
         "mode": "markers",
         "name": "United States",
         "showlegend": true,
         "type": "scattergl",
         "visible": "legendonly",
         "x": [
          2006,
          2007,
          2008,
          2009,
          2010,
          2011,
          2012,
          2013,
          2014,
          2015,
          2016,
          2017,
          2018
         ],
         "xaxis": "x",
         "y": [
          0.0134996358362828,
          0.013697537153074,
          0.0139143901159116,
          0.014109702283637001,
          0.0142271482613185,
          0.014189291174883899,
          0.0139993512768136,
          0.0137424788641694,
          0.0135089334857975,
          0.013385414463955699,
          0.0133703456949999,
          0.0133852822911364,
          0.0134177878199194
         ],
         "yaxis": "y"
        },
        {
         "hovertemplate": "country=Uzbekistan<br>year=%{x}<br>pct_new_per_pop_disorders=%{y}<extra></extra>",
         "legendgroup": "Uzbekistan",
         "marker": {
          "color": "#19d3f3",
          "symbol": "circle"
         },
         "mode": "markers",
         "name": "Uzbekistan",
         "showlegend": true,
         "type": "scattergl",
         "visible": "legendonly",
         "x": [
          2006,
          2008,
          2009,
          2010,
          2011,
          2012,
          2013,
          2014,
          2015,
          2016,
          2017,
          2018
         ],
         "xaxis": "x",
         "y": [
          0.011411885476408699,
          0.0114934224134646,
          0.0115189647700598,
          0.011561554784195299,
          0.0116278731799422,
          0.0116903142412467,
          0.0117475020014639,
          0.0117931491276185,
          0.011826255827707601,
          0.0118632238798068,
          0.0119110035279961,
          0.011957796229285
         ],
         "yaxis": "y"
        },
        {
         "hovertemplate": "country=Vietnam<br>year=%{x}<br>pct_new_per_pop_disorders=%{y}<extra></extra>",
         "legendgroup": "Vietnam",
         "marker": {
          "color": "#FF6692",
          "symbol": "circle"
         },
         "mode": "markers",
         "name": "Vietnam",
         "showlegend": true,
         "type": "scattergl",
         "visible": "legendonly",
         "x": [
          2006,
          2007,
          2008,
          2009,
          2010,
          2011,
          2012,
          2013,
          2014,
          2015,
          2016,
          2017,
          2018
         ],
         "xaxis": "x",
         "y": [
          0.0056957188444851994,
          0.0056808936903011,
          0.0056488687965066,
          0.0056175182440169995,
          0.0056067981714186,
          0.0056185500605695,
          0.0056360837307868,
          0.0056520804736415,
          0.005665551132790401,
          0.0056766727458971,
          0.005681368012906101,
          0.0056900298388123,
          0.0057013768246515
         ],
         "yaxis": "y"
        },
        {
         "hovertemplate": "country=South Africa<br>year=%{x}<br>pct_new_per_pop_disorders=%{y}<extra></extra>",
         "legendgroup": "South Africa",
         "marker": {
          "color": "#B6E880",
          "symbol": "circle"
         },
         "mode": "markers",
         "name": "South Africa",
         "showlegend": true,
         "type": "scattergl",
         "visible": "legendonly",
         "x": [
          2006,
          2007,
          2008,
          2009,
          2010,
          2011,
          2012,
          2013,
          2014,
          2015,
          2016,
          2017,
          2018
         ],
         "xaxis": "x",
         "y": [
          0.0070577771476044,
          0.0071770727376656,
          0.0073157311144686,
          0.007457659458412501,
          0.0075911623069149,
          0.0077597982582284005,
          0.0079803733168068,
          0.0082192378350007,
          0.008433690378799,
          0.0085767565371528,
          0.008668720842730099,
          0.0087643789797789,
          0.0088645971530763
         ],
         "yaxis": "y"
        },
        {
         "hovertemplate": "country=Zambia<br>year=%{x}<br>pct_new_per_pop_disorders=%{y}<extra></extra>",
         "legendgroup": "Zambia",
         "marker": {
          "color": "#FF97FF",
          "symbol": "circle"
         },
         "mode": "markers",
         "name": "Zambia",
         "showlegend": true,
         "type": "scattergl",
         "visible": "legendonly",
         "x": [
          2006,
          2007,
          2008,
          2009,
          2011,
          2012,
          2013,
          2014,
          2015,
          2016,
          2017,
          2018
         ],
         "xaxis": "x",
         "y": [
          0.0053785197906823,
          0.0054191704807883,
          0.005454178167049,
          0.0054740573958943,
          0.005568582935556199,
          0.005695150448186599,
          0.0058559803717686005,
          0.0060302381745958,
          0.0061800427786151,
          0.006293189424997,
          0.006416675886284699,
          0.0065123899730359
         ],
         "yaxis": "y"
        },
        {
         "hovertemplate": "country=Zimbabwe<br>year=%{x}<br>pct_new_per_pop_disorders=%{y}<extra></extra>",
         "legendgroup": "Zimbabwe",
         "marker": {
          "color": "#FECB52",
          "symbol": "circle"
         },
         "mode": "markers",
         "name": "Zimbabwe",
         "showlegend": true,
         "type": "scattergl",
         "visible": "legendonly",
         "x": [
          2006,
          2007,
          2008,
          2009,
          2010,
          2011,
          2012,
          2013,
          2014,
          2015,
          2016,
          2017,
          2018
         ],
         "xaxis": "x",
         "y": [
          0.0052936293551867,
          0.0051763786556861,
          0.005186633059646,
          0.0051337307522111,
          0.005126200282167199,
          0.0052008351211493995,
          0.005295277013911,
          0.0053703534687548,
          0.0054412998044706,
          0.0055153208640867,
          0.0055928881733801,
          0.0055822542634091,
          0.0056759714308244
         ],
         "yaxis": "y"
        },
        {
         "hovertemplate": "country=Albania<br>year=%{x}<br>pct_new_per_pop_disorders=%{y}<extra></extra>",
         "legendgroup": "Albania",
         "marker": {
          "color": "#636efa",
          "symbol": "circle"
         },
         "mode": "markers",
         "name": "Albania",
         "showlegend": true,
         "type": "scattergl",
         "visible": "legendonly",
         "x": [
          2007,
          2009,
          2010,
          2011,
          2012,
          2013,
          2014,
          2015,
          2016,
          2017,
          2018
         ],
         "xaxis": "x",
         "y": [
          0.008440112641164,
          0.0086413634655005,
          0.008747600186950701,
          0.0088622318672491,
          0.0089762668035956,
          0.0090851936345291,
          0.0091876890862726,
          0.009284960375346301,
          0.009377969682606,
          0.0094623154521456,
          0.009540439151048801
         ],
         "yaxis": "y"
        },
        {
         "hovertemplate": "country=Bulgaria<br>year=%{x}<br>pct_new_per_pop_disorders=%{y}<extra></extra>",
         "legendgroup": "Bulgaria",
         "marker": {
          "color": "#EF553B",
          "symbol": "circle"
         },
         "mode": "markers",
         "name": "Bulgaria",
         "showlegend": true,
         "type": "scattergl",
         "visible": "legendonly",
         "x": [
          2007,
          2010,
          2011,
          2012,
          2013,
          2014,
          2015,
          2016,
          2017,
          2018
         ],
         "xaxis": "x",
         "y": [
          0.012162334435032202,
          0.0119573661436961,
          0.0120004951520102,
          0.0120357782043676,
          0.0120774594455987,
          0.0121222805188454,
          0.012170070374127099,
          0.0122341825457188,
          0.0123164941441589,
          0.0124040593978984
         ],
         "yaxis": "y"
        },
        {
         "hovertemplate": "country=Bosnia and Herzegovina<br>year=%{x}<br>pct_new_per_pop_disorders=%{y}<extra></extra>",
         "legendgroup": "Bosnia and Herzegovina",
         "marker": {
          "color": "#00cc96",
          "symbol": "circle"
         },
         "mode": "markers",
         "name": "Bosnia and Herzegovina",
         "showlegend": true,
         "type": "scattergl",
         "visible": "legendonly",
         "x": [
          2007,
          2009,
          2010,
          2011,
          2012,
          2013,
          2014,
          2015,
          2016,
          2017,
          2018
         ],
         "xaxis": "x",
         "y": [
          0.011982670643506199,
          0.011686235655936,
          0.0116350186975609,
          0.011626066156216799,
          0.0116181674068983,
          0.0116118627311499,
          0.0116203649915262,
          0.011665298650295199,
          0.0117592514321599,
          0.011886499420068999,
          0.0120189936261171
         ],
         "yaxis": "y"
        },
        {
         "hovertemplate": "country=Belize<br>year=%{x}<br>pct_new_per_pop_disorders=%{y}<extra></extra>",
         "legendgroup": "Belize",
         "marker": {
          "color": "#ab63fa",
          "symbol": "circle"
         },
         "mode": "markers",
         "name": "Belize",
         "showlegend": true,
         "type": "scattergl",
         "visible": "legendonly",
         "x": [
          2007,
          2014
         ],
         "xaxis": "x",
         "y": [
          0.0080958079885466,
          0.0086544230510513
         ],
         "yaxis": "y"
        },
        {
         "hovertemplate": "country=Central African Republic<br>year=%{x}<br>pct_new_per_pop_disorders=%{y}<extra></extra>",
         "legendgroup": "Central African Republic",
         "marker": {
          "color": "#FFA15A",
          "symbol": "circle"
         },
         "mode": "markers",
         "name": "Central African Republic",
         "showlegend": true,
         "type": "scattergl",
         "visible": "legendonly",
         "x": [
          2007,
          2010,
          2011,
          2016,
          2017
         ],
         "xaxis": "x",
         "y": [
          0.009355355439021901,
          0.0094449116251857,
          0.0095007409471972,
          0.0099576210367689,
          0.010020430209374199
         ],
         "yaxis": "y"
        },
        {
         "hovertemplate": "country=Guyana<br>year=%{x}<br>pct_new_per_pop_disorders=%{y}<extra></extra>",
         "legendgroup": "Guyana",
         "marker": {
          "color": "#19d3f3",
          "symbol": "circle"
         },
         "mode": "markers",
         "name": "Guyana",
         "showlegend": true,
         "type": "scattergl",
         "visible": "legendonly",
         "x": [
          2007
         ],
         "xaxis": "x",
         "y": [
          0.0140270930285152
         ],
         "yaxis": "y"
        },
        {
         "hovertemplate": "country=Croatia<br>year=%{x}<br>pct_new_per_pop_disorders=%{y}<extra></extra>",
         "legendgroup": "Croatia",
         "marker": {
          "color": "#FF6692",
          "symbol": "circle"
         },
         "mode": "markers",
         "name": "Croatia",
         "showlegend": true,
         "type": "scattergl",
         "visible": "legendonly",
         "x": [
          2007,
          2009,
          2010,
          2011,
          2012,
          2013,
          2014,
          2015,
          2016,
          2017,
          2018
         ],
         "xaxis": "x",
         "y": [
          0.0138437053647293,
          0.013640057021969,
          0.0136141893819068,
          0.0136389203574484,
          0.0136811614148186,
          0.0137342501669965,
          0.0137902580448326,
          0.0138480240015973,
          0.013916825168763901,
          0.0139974078976152,
          0.014078312305399
         ],
         "yaxis": "y"
        },
        {
         "hovertemplate": "country=Liberia<br>year=%{x}<br>pct_new_per_pop_disorders=%{y}<extra></extra>",
         "legendgroup": "Liberia",
         "marker": {
          "color": "#B6E880",
          "symbol": "circle"
         },
         "mode": "markers",
         "name": "Liberia",
         "showlegend": true,
         "type": "scattergl",
         "visible": "legendonly",
         "x": [
          2007,
          2008,
          2010,
          2014,
          2015,
          2016,
          2017,
          2018
         ],
         "xaxis": "x",
         "y": [
          0.0071557516008096,
          0.0071445386769524,
          0.0071958537640513,
          0.0075081350757037,
          0.0075948498203003,
          0.007553381223802,
          0.0073772117577789,
          0.0072251598332363
         ],
         "yaxis": "y"
        },
        {
         "hovertemplate": "country=North Macedonia<br>year=%{x}<br>pct_new_per_pop_disorders=%{y}<extra></extra>",
         "legendgroup": "North Macedonia",
         "marker": {
          "color": "#FF97FF",
          "symbol": "circle"
         },
         "mode": "markers",
         "name": "North Macedonia",
         "showlegend": true,
         "type": "scattergl",
         "visible": "legendonly",
         "x": [
          2007,
          2009,
          2010,
          2011,
          2012,
          2013,
          2014,
          2015,
          2016,
          2017,
          2018
         ],
         "xaxis": "x",
         "y": [
          0.0098240713248355,
          0.009874272787271501,
          0.0099237031872094,
          0.0099835425404666,
          0.0100453099701375,
          0.0101074945008966,
          0.0101680861129101,
          0.0102311708062659,
          0.010306214226456,
          0.0103968941646276,
          0.0104887039879363
         ],
         "yaxis": "y"
        },
        {
         "hovertemplate": "country=Montenegro<br>year=%{x}<br>pct_new_per_pop_disorders=%{y}<extra></extra>",
         "legendgroup": "Montenegro",
         "marker": {
          "color": "#FECB52",
          "symbol": "circle"
         },
         "mode": "markers",
         "name": "Montenegro",
         "showlegend": true,
         "type": "scattergl",
         "visible": "legendonly",
         "x": [
          2007,
          2009,
          2010,
          2011,
          2012,
          2013,
          2014,
          2015,
          2016,
          2017,
          2018
         ],
         "xaxis": "x",
         "y": [
          0.0114427224714871,
          0.0115012592603203,
          0.0115396800511438,
          0.0115932718902393,
          0.011655718641102101,
          0.0117203234950754,
          0.011780494272446299,
          0.0118307864473916,
          0.011871884127521099,
          0.011910456251952199,
          0.0119471523206256
         ],
         "yaxis": "y"
        },
        {
         "hovertemplate": "country=Mongolia<br>year=%{x}<br>pct_new_per_pop_disorders=%{y}<extra></extra>",
         "legendgroup": "Mongolia",
         "marker": {
          "color": "#636efa",
          "symbol": "circle"
         },
         "mode": "markers",
         "name": "Mongolia",
         "showlegend": true,
         "type": "scattergl",
         "visible": "legendonly",
         "x": [
          2007,
          2008,
          2010,
          2011,
          2012,
          2013,
          2014,
          2015,
          2016,
          2017,
          2018
         ],
         "xaxis": "x",
         "y": [
          0.014886231440745301,
          0.0149155287960015,
          0.014981526620287101,
          0.0150284738736962,
          0.015079203626182,
          0.015124586944448399,
          0.0151506045941533,
          0.0151062355493763,
          0.015036620883361,
          0.0150211680800219,
          0.0149738176161689
         ],
         "yaxis": "y"
        },
        {
         "hovertemplate": "country=Mauritania<br>year=%{x}<br>pct_new_per_pop_disorders=%{y}<extra></extra>",
         "legendgroup": "Mauritania",
         "marker": {
          "color": "#EF553B",
          "symbol": "circle"
         },
         "mode": "markers",
         "name": "Mauritania",
         "showlegend": true,
         "type": "scattergl",
         "visible": "legendonly",
         "x": [
          2007,
          2008,
          2009,
          2010,
          2011,
          2012,
          2013,
          2014,
          2015,
          2016,
          2017,
          2018
         ],
         "xaxis": "x",
         "y": [
          0.005978091021648401,
          0.005922424123654299,
          0.0059371312510742,
          0.0059198723362214,
          0.0059581720626508,
          0.0061012584549573,
          0.0062371900703787,
          0.0063370314542638,
          0.006442706575186,
          0.0065192902513532,
          0.006661140872247499,
          0.0067516455902558
         ],
         "yaxis": "y"
        },
        {
         "hovertemplate": "country=Namibia<br>year=%{x}<br>pct_new_per_pop_disorders=%{y}<extra></extra>",
         "legendgroup": "Namibia",
         "marker": {
          "color": "#00cc96",
          "symbol": "circle"
         },
         "mode": "markers",
         "name": "Namibia",
         "showlegend": true,
         "type": "scattergl",
         "visible": "legendonly",
         "x": [
          2007,
          2014,
          2017,
          2018
         ],
         "xaxis": "x",
         "y": [
          0.006492888573775,
          0.0067796092818206005,
          0.0070183342787756,
          0.0071294518047488
         ],
         "yaxis": "y"
        },
        {
         "hovertemplate": "country=Serbia<br>year=%{x}<br>pct_new_per_pop_disorders=%{y}<extra></extra>",
         "legendgroup": "Serbia",
         "marker": {
          "color": "#ab63fa",
          "symbol": "circle"
         },
         "mode": "markers",
         "name": "Serbia",
         "showlegend": true,
         "type": "scattergl",
         "visible": "legendonly",
         "x": [
          2007,
          2009,
          2010,
          2011,
          2012,
          2013,
          2014,
          2015,
          2016,
          2017,
          2018
         ],
         "xaxis": "x",
         "y": [
          0.0123394328573487,
          0.0122239428050732,
          0.0122229743310388,
          0.012264638320690299,
          0.0123167919987594,
          0.0123693474917571,
          0.012419467739506201,
          0.012483863374668799,
          0.0125320717808317,
          0.0125468735019563,
          0.0125600738916019
         ],
         "yaxis": "y"
        },
        {
         "hovertemplate": "country=Yemen<br>year=%{x}<br>pct_new_per_pop_disorders=%{y}<extra></extra>",
         "legendgroup": "Yemen",
         "marker": {
          "color": "#FFA15A",
          "symbol": "circle"
         },
         "mode": "markers",
         "name": "Yemen",
         "showlegend": true,
         "type": "scattergl",
         "visible": "legendonly",
         "x": [
          2007,
          2009,
          2010,
          2011,
          2012,
          2013,
          2014,
          2015,
          2016,
          2017,
          2018
         ],
         "xaxis": "x",
         "y": [
          0.0109636462791721,
          0.0107664535013908,
          0.010735583382526401,
          0.0108527756135956,
          0.0110262434943802,
          0.0113419614261011,
          0.01161508907319,
          0.0118615228572677,
          0.0120165662674041,
          0.0122213517019525,
          0.012321937198170799
         ],
         "yaxis": "y"
        },
        {
         "hovertemplate": "country=Afghanistan<br>year=%{x}<br>pct_new_per_pop_disorders=%{y}<extra></extra>",
         "legendgroup": "Afghanistan",
         "marker": {
          "color": "#19d3f3",
          "symbol": "circle"
         },
         "mode": "markers",
         "name": "Afghanistan",
         "showlegend": true,
         "type": "scattergl",
         "visible": "legendonly",
         "x": [
          2008,
          2009,
          2010,
          2011,
          2012,
          2013,
          2014,
          2015,
          2016,
          2017,
          2018
         ],
         "xaxis": "x",
         "y": [
          0.0127430284097325,
          0.013024996239254901,
          0.0132694063431798,
          0.013473245037140001,
          0.0136655610050196,
          0.0139092085318975,
          0.013994974196787701,
          0.0140792545176454,
          0.014187176913012701,
          0.0143834018096808,
          0.0144630320862041
         ],
         "yaxis": "y"
        },
        {
         "hovertemplate": "country=Congo<br>year=%{x}<br>pct_new_per_pop_disorders=%{y}<extra></extra>",
         "legendgroup": "Congo",
         "marker": {
          "color": "#FF6692",
          "symbol": "circle"
         },
         "mode": "markers",
         "name": "Congo",
         "showlegend": true,
         "type": "scattergl",
         "visible": "legendonly",
         "x": [
          2008,
          2011,
          2012,
          2013,
          2014,
          2015,
          2016,
          2017,
          2018
         ],
         "xaxis": "x",
         "y": [
          0.0104596962828254,
          0.010329170839520199,
          0.010303993361658602,
          0.0102900143777497,
          0.0103439560320643,
          0.0104407183442436,
          0.0105760021947228,
          0.0107332380123357,
          0.010898441586704399
         ],
         "yaxis": "y"
        },
        {
         "hovertemplate": "country=Djibouti<br>year=%{x}<br>pct_new_per_pop_disorders=%{y}<extra></extra>",
         "legendgroup": "Djibouti",
         "marker": {
          "color": "#B6E880",
          "symbol": "circle"
         },
         "mode": "markers",
         "name": "Djibouti",
         "showlegend": true,
         "type": "scattergl",
         "visible": "legendonly",
         "x": [
          2008,
          2009,
          2010,
          2011
         ],
         "xaxis": "x",
         "y": [
          0.0084290720706286,
          0.0084421556224904,
          0.0084923367852983,
          0.0085549876505422
         ],
         "yaxis": "y"
        },
        {
         "hovertemplate": "country=Iraq<br>year=%{x}<br>pct_new_per_pop_disorders=%{y}<extra></extra>",
         "legendgroup": "Iraq",
         "marker": {
          "color": "#FF97FF",
          "symbol": "circle"
         },
         "mode": "markers",
         "name": "Iraq",
         "showlegend": true,
         "type": "scattergl",
         "visible": "legendonly",
         "x": [
          2008,
          2009,
          2010,
          2011,
          2012,
          2013,
          2014,
          2015,
          2016,
          2017,
          2018
         ],
         "xaxis": "x",
         "y": [
          0.0098480122293397,
          0.009998984887405499,
          0.010121406704254501,
          0.010429983235903701,
          0.011000637878066,
          0.0115833523968445,
          0.012041722691821998,
          0.0124609004222274,
          0.012597231169421401,
          0.0127688875288454,
          0.013144058005695
         ],
         "yaxis": "y"
        },
        {
         "hovertemplate": "country=Iceland<br>year=%{x}<br>pct_new_per_pop_disorders=%{y}<extra></extra>",
         "legendgroup": "Iceland",
         "marker": {
          "color": "#FECB52",
          "symbol": "circle"
         },
         "mode": "markers",
         "name": "Iceland",
         "showlegend": true,
         "type": "scattergl",
         "visible": "legendonly",
         "x": [
          2008,
          2012,
          2013,
          2015,
          2016,
          2017
         ],
         "xaxis": "x",
         "y": [
          0.0097878353160555,
          0.0096723865567311,
          0.0097358442670038,
          0.009905177341471401,
          0.0100184035032903,
          0.0101643046633812
         ],
         "yaxis": "y"
        },
        {
         "hovertemplate": "country=Ivory Coast<br>year=%{x}<br>pct_new_per_pop_disorders=%{y}<extra></extra>",
         "legendgroup": "Ivory Coast",
         "marker": {
          "color": "#636efa",
          "symbol": "circle"
         },
         "mode": "markers",
         "name": "Ivory Coast",
         "showlegend": true,
         "type": "scattergl",
         "visible": "legendonly",
         "x": [
          2009,
          2013,
          2014,
          2015,
          2016,
          2017,
          2018
         ],
         "xaxis": "x",
         "y": [
          0.0059911659314445,
          0.0063736308055835,
          0.0064983673916439,
          0.0066107654973203,
          0.0066786683160087994,
          0.006734657121091,
          0.0067757927837781996
         ],
         "yaxis": "y"
        },
        {
         "hovertemplate": "country=Luxembourg<br>year=%{x}<br>pct_new_per_pop_disorders=%{y}<extra></extra>",
         "legendgroup": "Luxembourg",
         "marker": {
          "color": "#EF553B",
          "symbol": "circle"
         },
         "mode": "markers",
         "name": "Luxembourg",
         "showlegend": true,
         "type": "scattergl",
         "visible": "legendonly",
         "x": [
          2009,
          2010,
          2011,
          2012,
          2013,
          2014,
          2015,
          2016,
          2017,
          2018
         ],
         "xaxis": "x",
         "y": [
          0.011442313290004301,
          0.0113837820084444,
          0.0114048668589968,
          0.0114528987067983,
          0.011498361551045699,
          0.0115463455958858,
          0.0116010301021822,
          0.0116804877305499,
          0.011792779935003701,
          0.011896190451459301
         ],
         "yaxis": "y"
        },
        {
         "hovertemplate": "country=Malta<br>year=%{x}<br>pct_new_per_pop_disorders=%{y}<extra></extra>",
         "legendgroup": "Malta",
         "marker": {
          "color": "#00cc96",
          "symbol": "circle"
         },
         "mode": "markers",
         "name": "Malta",
         "showlegend": true,
         "type": "scattergl",
         "visible": "legendonly",
         "x": [
          2009,
          2010,
          2011,
          2012,
          2013,
          2014,
          2015,
          2016,
          2017,
          2018
         ],
         "xaxis": "x",
         "y": [
          0.0107297535285448,
          0.0106934657130852,
          0.0107104651313352,
          0.0107586581217727,
          0.0108292331783187,
          0.0109047023845164,
          0.010976187998602,
          0.0110894832240445,
          0.0112595280138223,
          0.011424694746531
         ],
         "yaxis": "y"
        },
        {
         "hovertemplate": "country=Sudan<br>year=%{x}<br>pct_new_per_pop_disorders=%{y}<extra></extra>",
         "legendgroup": "Sudan",
         "marker": {
          "color": "#ab63fa",
          "symbol": "circle"
         },
         "mode": "markers",
         "name": "Sudan",
         "showlegend": true,
         "type": "scattergl",
         "visible": "legendonly",
         "x": [
          2009,
          2010,
          2011,
          2012,
          2014
         ],
         "xaxis": "x",
         "y": [
          0.0106894675249086,
          0.0107407368934805,
          0.0108239912359945,
          0.011034128839628,
          0.0115057184721993
         ],
         "yaxis": "y"
        },
        {
         "hovertemplate": "country=Turkmenistan<br>year=%{x}<br>pct_new_per_pop_disorders=%{y}<extra></extra>",
         "legendgroup": "Turkmenistan",
         "marker": {
          "color": "#FFA15A",
          "symbol": "circle"
         },
         "mode": "markers",
         "name": "Turkmenistan",
         "showlegend": true,
         "type": "scattergl",
         "visible": "legendonly",
         "x": [
          2009,
          2011,
          2012,
          2013,
          2014,
          2015,
          2016,
          2017,
          2018
         ],
         "xaxis": "x",
         "y": [
          0.0102691524461003,
          0.010399577057737001,
          0.0104684041790057,
          0.0105429661762763,
          0.0106081713632037,
          0.010667733191491901,
          0.0107285004693827,
          0.010791911009961599,
          0.0108542334505789
         ],
         "yaxis": "y"
        },
        {
         "hovertemplate": "country=Tunisia<br>year=%{x}<br>pct_new_per_pop_disorders=%{y}<extra></extra>",
         "legendgroup": "Tunisia",
         "marker": {
          "color": "#19d3f3",
          "symbol": "circle"
         },
         "mode": "markers",
         "name": "Tunisia",
         "showlegend": true,
         "type": "scattergl",
         "visible": "legendonly",
         "x": [
          2009,
          2010,
          2011,
          2012,
          2013,
          2014,
          2015,
          2016,
          2017,
          2018
         ],
         "xaxis": "x",
         "y": [
          0.0191034129018453,
          0.0191744753257674,
          0.0192001875870996,
          0.019277452277441598,
          0.0193306771127457,
          0.019387458622220802,
          0.0194453136301913,
          0.0195288653168567,
          0.0196487408280706,
          0.019767170543436203
         ],
         "yaxis": "y"
        },
        {
         "hovertemplate": "country=Algeria<br>year=%{x}<br>pct_new_per_pop_disorders=%{y}<extra></extra>",
         "legendgroup": "Algeria",
         "marker": {
          "color": "#FF6692",
          "symbol": "circle"
         },
         "mode": "markers",
         "name": "Algeria",
         "showlegend": true,
         "type": "scattergl",
         "visible": "legendonly",
         "x": [
          2010,
          2011,
          2012,
          2014,
          2016,
          2017,
          2018
         ],
         "xaxis": "x",
         "y": [
          0.0142400383001995,
          0.0142317379209485,
          0.0142388909650321,
          0.0142634273686585,
          0.0142904484428099,
          0.014348551929675601,
          0.0144256119369344
         ],
         "yaxis": "y"
        },
        {
         "hovertemplate": "country=Morocco<br>year=%{x}<br>pct_new_per_pop_disorders=%{y}<extra></extra>",
         "legendgroup": "Morocco",
         "marker": {
          "color": "#B6E880",
          "symbol": "circle"
         },
         "mode": "markers",
         "name": "Morocco",
         "showlegend": true,
         "type": "scattergl",
         "visible": "legendonly",
         "x": [
          2010,
          2011,
          2012,
          2013,
          2015,
          2016,
          2017,
          2018
         ],
         "xaxis": "x",
         "y": [
          0.0158972876413497,
          0.0160995614615217,
          0.0163496315588722,
          0.016617819174918398,
          0.017096752857385,
          0.0172143890261695,
          0.0172874307781016,
          0.0173479503330729
         ],
         "yaxis": "y"
        },
        {
         "hovertemplate": "country=Angola<br>year=%{x}<br>pct_new_per_pop_disorders=%{y}<extra></extra>",
         "legendgroup": "Angola",
         "marker": {
          "color": "#FF97FF",
          "symbol": "circle"
         },
         "mode": "markers",
         "name": "Angola",
         "showlegend": true,
         "type": "scattergl",
         "visible": "legendonly",
         "x": [
          2011,
          2012,
          2013,
          2014
         ],
         "xaxis": "x",
         "y": [
          0.0107584023067956,
          0.0108437947865642,
          0.0109366073351235,
          0.011036405794788099
         ],
         "yaxis": "y"
        },
        {
         "hovertemplate": "country=Gabon<br>year=%{x}<br>pct_new_per_pop_disorders=%{y}<extra></extra>",
         "legendgroup": "Gabon",
         "marker": {
          "color": "#FECB52",
          "symbol": "circle"
         },
         "mode": "markers",
         "name": "Gabon",
         "showlegend": true,
         "type": "scattergl",
         "visible": "legendonly",
         "x": [
          2011,
          2012,
          2013,
          2014,
          2015,
          2016,
          2017,
          2018
         ],
         "xaxis": "x",
         "y": [
          0.0110189392954598,
          0.011087506854004999,
          0.0112037135922138,
          0.011338618966257099,
          0.0114651659683266,
          0.0116178231968307,
          0.0117972431922879,
          0.0119811480159092
         ],
         "yaxis": "y"
        },
        {
         "hovertemplate": "country=Guinea<br>year=%{x}<br>pct_new_per_pop_disorders=%{y}<extra></extra>",
         "legendgroup": "Guinea",
         "marker": {
          "color": "#636efa",
          "symbol": "circle"
         },
         "mode": "markers",
         "name": "Guinea",
         "showlegend": true,
         "type": "scattergl",
         "visible": "legendonly",
         "x": [
          2011,
          2012,
          2013,
          2014,
          2015,
          2016,
          2017,
          2018
         ],
         "xaxis": "x",
         "y": [
          0.0068126293054702,
          0.0069043171074491,
          0.0070570379563171,
          0.0071991204642514,
          0.007299606866774,
          0.0073746696076034,
          0.0074164881380984,
          0.0074427159060352
         ],
         "yaxis": "y"
        },
        {
         "hovertemplate": "country=Lesotho<br>year=%{x}<br>pct_new_per_pop_disorders=%{y}<extra></extra>",
         "legendgroup": "Lesotho",
         "marker": {
          "color": "#EF553B",
          "symbol": "circle"
         },
         "mode": "markers",
         "name": "Lesotho",
         "showlegend": true,
         "type": "scattergl",
         "visible": "legendonly",
         "x": [
          2011,
          2016,
          2017
         ],
         "xaxis": "x",
         "y": [
          0.011209066108002201,
          0.0114621617424555,
          0.0115165667813724
         ],
         "yaxis": "y"
        },
        {
         "hovertemplate": "country=Mauritius<br>year=%{x}<br>pct_new_per_pop_disorders=%{y}<extra></extra>",
         "legendgroup": "Mauritius",
         "marker": {
          "color": "#00cc96",
          "symbol": "circle"
         },
         "mode": "markers",
         "name": "Mauritius",
         "showlegend": true,
         "type": "scattergl",
         "visible": "legendonly",
         "x": [
          2011,
          2014,
          2016,
          2017,
          2018
         ],
         "xaxis": "x",
         "y": [
          0.012575200968195,
          0.0120279507722097,
          0.0121915686960398,
          0.012435988407354801,
          0.0126743073802332
         ],
         "yaxis": "y"
        },
        {
         "hovertemplate": "country=Oman<br>year=%{x}<br>pct_new_per_pop_disorders=%{y}<extra></extra>",
         "legendgroup": "Oman",
         "marker": {
          "color": "#ab63fa",
          "symbol": "circle"
         },
         "mode": "markers",
         "name": "Oman",
         "showlegend": true,
         "type": "scattergl",
         "visible": "legendonly",
         "x": [
          2011
         ],
         "xaxis": "x",
         "y": [
          0.014288947116431
         ],
         "yaxis": "y"
        },
        {
         "hovertemplate": "country=Eswatini<br>year=%{x}<br>pct_new_per_pop_disorders=%{y}<extra></extra>",
         "legendgroup": "Eswatini",
         "marker": {
          "color": "#FFA15A",
          "symbol": "circle"
         },
         "mode": "markers",
         "name": "Eswatini",
         "showlegend": true,
         "type": "scattergl",
         "visible": "legendonly",
         "x": [
          2011,
          2018
         ],
         "xaxis": "x",
         "y": [
          0.0082599909518772,
          0.0089870409797243
         ],
         "yaxis": "y"
        },
        {
         "hovertemplate": "country=Ethiopia<br>year=%{x}<br>pct_new_per_pop_disorders=%{y}<extra></extra>",
         "legendgroup": "Ethiopia",
         "marker": {
          "color": "#19d3f3",
          "symbol": "circle"
         },
         "mode": "markers",
         "name": "Ethiopia",
         "showlegend": true,
         "type": "scattergl",
         "visible": "legendonly",
         "x": [
          2012,
          2013,
          2014,
          2015,
          2016,
          2017,
          2018
         ],
         "xaxis": "x",
         "y": [
          0.007345207380933899,
          0.0074784312760698,
          0.0076996295708985,
          0.007850148787615,
          0.0080168234844204,
          0.0081909446521989,
          0.008350243546796
         ],
         "yaxis": "y"
        },
        {
         "hovertemplate": "country=Myanmar<br>year=%{x}<br>pct_new_per_pop_disorders=%{y}<extra></extra>",
         "legendgroup": "Myanmar",
         "marker": {
          "color": "#FF6692",
          "symbol": "circle"
         },
         "mode": "markers",
         "name": "Myanmar",
         "showlegend": true,
         "type": "scattergl",
         "visible": "legendonly",
         "x": [
          2012,
          2013,
          2014,
          2015,
          2016,
          2017,
          2018
         ],
         "xaxis": "x",
         "y": [
          0.0050124136338257,
          0.0051379710571395,
          0.0052541388435112,
          0.0053300857596981,
          0.0053992190823748,
          0.0053983104145216,
          0.005507196274877201
         ],
         "yaxis": "y"
        },
        {
         "hovertemplate": "country=Suriname<br>year=%{x}<br>pct_new_per_pop_disorders=%{y}<extra></extra>",
         "legendgroup": "Suriname",
         "marker": {
          "color": "#B6E880",
          "symbol": "circle"
         },
         "mode": "markers",
         "name": "Suriname",
         "showlegend": true,
         "type": "scattergl",
         "visible": "legendonly",
         "x": [
          2012
         ],
         "xaxis": "x",
         "y": [
          0.014544085598785901
         ],
         "yaxis": "y"
        },
        {
         "hovertemplate": "country=Gambia<br>year=%{x}<br>pct_new_per_pop_disorders=%{y}<extra></extra>",
         "legendgroup": "Gambia",
         "marker": {
          "color": "#FF97FF",
          "symbol": "circle"
         },
         "mode": "markers",
         "name": "Gambia",
         "showlegend": true,
         "type": "scattergl",
         "visible": "legendonly",
         "x": [
          2017,
          2018
         ],
         "xaxis": "x",
         "y": [
          0.0114667837868643,
          0.0115887753346344
         ],
         "yaxis": "y"
        },
        {
         "hovertemplate": "country=Maldives<br>year=%{x}<br>pct_new_per_pop_disorders=%{y}<extra></extra>",
         "legendgroup": "Maldives",
         "marker": {
          "color": "#FECB52",
          "symbol": "circle"
         },
         "mode": "markers",
         "name": "Maldives",
         "showlegend": true,
         "type": "scattergl",
         "visible": "legendonly",
         "x": [
          2018
         ],
         "xaxis": "x",
         "y": [
          0.007578972268181701
         ],
         "yaxis": "y"
        }
       ],
       "layout": {
        "legend": {
         "title": {
          "text": "country"
         },
         "tracegroupgap": 0
        },
        "template": {
         "data": {
          "bar": [
           {
            "error_x": {
             "color": "#f2f5fa"
            },
            "error_y": {
             "color": "#f2f5fa"
            },
            "marker": {
             "line": {
              "color": "rgb(17,17,17)",
              "width": 0.5
             },
             "pattern": {
              "fillmode": "overlay",
              "size": 10,
              "solidity": 0.2
             }
            },
            "type": "bar"
           }
          ],
          "barpolar": [
           {
            "marker": {
             "line": {
              "color": "rgb(17,17,17)",
              "width": 0.5
             },
             "pattern": {
              "fillmode": "overlay",
              "size": 10,
              "solidity": 0.2
             }
            },
            "type": "barpolar"
           }
          ],
          "carpet": [
           {
            "aaxis": {
             "endlinecolor": "#A2B1C6",
             "gridcolor": "#506784",
             "linecolor": "#506784",
             "minorgridcolor": "#506784",
             "startlinecolor": "#A2B1C6"
            },
            "baxis": {
             "endlinecolor": "#A2B1C6",
             "gridcolor": "#506784",
             "linecolor": "#506784",
             "minorgridcolor": "#506784",
             "startlinecolor": "#A2B1C6"
            },
            "type": "carpet"
           }
          ],
          "choropleth": [
           {
            "colorbar": {
             "outlinewidth": 0,
             "ticks": ""
            },
            "type": "choropleth"
           }
          ],
          "contour": [
           {
            "colorbar": {
             "outlinewidth": 0,
             "ticks": ""
            },
            "colorscale": [
             [
              0,
              "#0d0887"
             ],
             [
              0.1111111111111111,
              "#46039f"
             ],
             [
              0.2222222222222222,
              "#7201a8"
             ],
             [
              0.3333333333333333,
              "#9c179e"
             ],
             [
              0.4444444444444444,
              "#bd3786"
             ],
             [
              0.5555555555555556,
              "#d8576b"
             ],
             [
              0.6666666666666666,
              "#ed7953"
             ],
             [
              0.7777777777777778,
              "#fb9f3a"
             ],
             [
              0.8888888888888888,
              "#fdca26"
             ],
             [
              1,
              "#f0f921"
             ]
            ],
            "type": "contour"
           }
          ],
          "contourcarpet": [
           {
            "colorbar": {
             "outlinewidth": 0,
             "ticks": ""
            },
            "type": "contourcarpet"
           }
          ],
          "heatmap": [
           {
            "colorbar": {
             "outlinewidth": 0,
             "ticks": ""
            },
            "colorscale": [
             [
              0,
              "#0d0887"
             ],
             [
              0.1111111111111111,
              "#46039f"
             ],
             [
              0.2222222222222222,
              "#7201a8"
             ],
             [
              0.3333333333333333,
              "#9c179e"
             ],
             [
              0.4444444444444444,
              "#bd3786"
             ],
             [
              0.5555555555555556,
              "#d8576b"
             ],
             [
              0.6666666666666666,
              "#ed7953"
             ],
             [
              0.7777777777777778,
              "#fb9f3a"
             ],
             [
              0.8888888888888888,
              "#fdca26"
             ],
             [
              1,
              "#f0f921"
             ]
            ],
            "type": "heatmap"
           }
          ],
          "heatmapgl": [
           {
            "colorbar": {
             "outlinewidth": 0,
             "ticks": ""
            },
            "colorscale": [
             [
              0,
              "#0d0887"
             ],
             [
              0.1111111111111111,
              "#46039f"
             ],
             [
              0.2222222222222222,
              "#7201a8"
             ],
             [
              0.3333333333333333,
              "#9c179e"
             ],
             [
              0.4444444444444444,
              "#bd3786"
             ],
             [
              0.5555555555555556,
              "#d8576b"
             ],
             [
              0.6666666666666666,
              "#ed7953"
             ],
             [
              0.7777777777777778,
              "#fb9f3a"
             ],
             [
              0.8888888888888888,
              "#fdca26"
             ],
             [
              1,
              "#f0f921"
             ]
            ],
            "type": "heatmapgl"
           }
          ],
          "histogram": [
           {
            "marker": {
             "pattern": {
              "fillmode": "overlay",
              "size": 10,
              "solidity": 0.2
             }
            },
            "type": "histogram"
           }
          ],
          "histogram2d": [
           {
            "colorbar": {
             "outlinewidth": 0,
             "ticks": ""
            },
            "colorscale": [
             [
              0,
              "#0d0887"
             ],
             [
              0.1111111111111111,
              "#46039f"
             ],
             [
              0.2222222222222222,
              "#7201a8"
             ],
             [
              0.3333333333333333,
              "#9c179e"
             ],
             [
              0.4444444444444444,
              "#bd3786"
             ],
             [
              0.5555555555555556,
              "#d8576b"
             ],
             [
              0.6666666666666666,
              "#ed7953"
             ],
             [
              0.7777777777777778,
              "#fb9f3a"
             ],
             [
              0.8888888888888888,
              "#fdca26"
             ],
             [
              1,
              "#f0f921"
             ]
            ],
            "type": "histogram2d"
           }
          ],
          "histogram2dcontour": [
           {
            "colorbar": {
             "outlinewidth": 0,
             "ticks": ""
            },
            "colorscale": [
             [
              0,
              "#0d0887"
             ],
             [
              0.1111111111111111,
              "#46039f"
             ],
             [
              0.2222222222222222,
              "#7201a8"
             ],
             [
              0.3333333333333333,
              "#9c179e"
             ],
             [
              0.4444444444444444,
              "#bd3786"
             ],
             [
              0.5555555555555556,
              "#d8576b"
             ],
             [
              0.6666666666666666,
              "#ed7953"
             ],
             [
              0.7777777777777778,
              "#fb9f3a"
             ],
             [
              0.8888888888888888,
              "#fdca26"
             ],
             [
              1,
              "#f0f921"
             ]
            ],
            "type": "histogram2dcontour"
           }
          ],
          "mesh3d": [
           {
            "colorbar": {
             "outlinewidth": 0,
             "ticks": ""
            },
            "type": "mesh3d"
           }
          ],
          "parcoords": [
           {
            "line": {
             "colorbar": {
              "outlinewidth": 0,
              "ticks": ""
             }
            },
            "type": "parcoords"
           }
          ],
          "pie": [
           {
            "automargin": true,
            "type": "pie"
           }
          ],
          "scatter": [
           {
            "marker": {
             "line": {
              "color": "#283442"
             }
            },
            "type": "scatter"
           }
          ],
          "scatter3d": [
           {
            "line": {
             "colorbar": {
              "outlinewidth": 0,
              "ticks": ""
             }
            },
            "marker": {
             "colorbar": {
              "outlinewidth": 0,
              "ticks": ""
             }
            },
            "type": "scatter3d"
           }
          ],
          "scattercarpet": [
           {
            "marker": {
             "colorbar": {
              "outlinewidth": 0,
              "ticks": ""
             }
            },
            "type": "scattercarpet"
           }
          ],
          "scattergeo": [
           {
            "marker": {
             "colorbar": {
              "outlinewidth": 0,
              "ticks": ""
             }
            },
            "type": "scattergeo"
           }
          ],
          "scattergl": [
           {
            "marker": {
             "line": {
              "color": "#283442"
             }
            },
            "type": "scattergl"
           }
          ],
          "scattermapbox": [
           {
            "marker": {
             "colorbar": {
              "outlinewidth": 0,
              "ticks": ""
             }
            },
            "type": "scattermapbox"
           }
          ],
          "scatterpolar": [
           {
            "marker": {
             "colorbar": {
              "outlinewidth": 0,
              "ticks": ""
             }
            },
            "type": "scatterpolar"
           }
          ],
          "scatterpolargl": [
           {
            "marker": {
             "colorbar": {
              "outlinewidth": 0,
              "ticks": ""
             }
            },
            "type": "scatterpolargl"
           }
          ],
          "scatterternary": [
           {
            "marker": {
             "colorbar": {
              "outlinewidth": 0,
              "ticks": ""
             }
            },
            "type": "scatterternary"
           }
          ],
          "surface": [
           {
            "colorbar": {
             "outlinewidth": 0,
             "ticks": ""
            },
            "colorscale": [
             [
              0,
              "#0d0887"
             ],
             [
              0.1111111111111111,
              "#46039f"
             ],
             [
              0.2222222222222222,
              "#7201a8"
             ],
             [
              0.3333333333333333,
              "#9c179e"
             ],
             [
              0.4444444444444444,
              "#bd3786"
             ],
             [
              0.5555555555555556,
              "#d8576b"
             ],
             [
              0.6666666666666666,
              "#ed7953"
             ],
             [
              0.7777777777777778,
              "#fb9f3a"
             ],
             [
              0.8888888888888888,
              "#fdca26"
             ],
             [
              1,
              "#f0f921"
             ]
            ],
            "type": "surface"
           }
          ],
          "table": [
           {
            "cells": {
             "fill": {
              "color": "#506784"
             },
             "line": {
              "color": "rgb(17,17,17)"
             }
            },
            "header": {
             "fill": {
              "color": "#2a3f5f"
             },
             "line": {
              "color": "rgb(17,17,17)"
             }
            },
            "type": "table"
           }
          ]
         },
         "layout": {
          "annotationdefaults": {
           "arrowcolor": "#f2f5fa",
           "arrowhead": 0,
           "arrowwidth": 1
          },
          "autotypenumbers": "strict",
          "coloraxis": {
           "colorbar": {
            "outlinewidth": 0,
            "ticks": ""
           }
          },
          "colorscale": {
           "diverging": [
            [
             0,
             "#8e0152"
            ],
            [
             0.1,
             "#c51b7d"
            ],
            [
             0.2,
             "#de77ae"
            ],
            [
             0.3,
             "#f1b6da"
            ],
            [
             0.4,
             "#fde0ef"
            ],
            [
             0.5,
             "#f7f7f7"
            ],
            [
             0.6,
             "#e6f5d0"
            ],
            [
             0.7,
             "#b8e186"
            ],
            [
             0.8,
             "#7fbc41"
            ],
            [
             0.9,
             "#4d9221"
            ],
            [
             1,
             "#276419"
            ]
           ],
           "sequential": [
            [
             0,
             "#0d0887"
            ],
            [
             0.1111111111111111,
             "#46039f"
            ],
            [
             0.2222222222222222,
             "#7201a8"
            ],
            [
             0.3333333333333333,
             "#9c179e"
            ],
            [
             0.4444444444444444,
             "#bd3786"
            ],
            [
             0.5555555555555556,
             "#d8576b"
            ],
            [
             0.6666666666666666,
             "#ed7953"
            ],
            [
             0.7777777777777778,
             "#fb9f3a"
            ],
            [
             0.8888888888888888,
             "#fdca26"
            ],
            [
             1,
             "#f0f921"
            ]
           ],
           "sequentialminus": [
            [
             0,
             "#0d0887"
            ],
            [
             0.1111111111111111,
             "#46039f"
            ],
            [
             0.2222222222222222,
             "#7201a8"
            ],
            [
             0.3333333333333333,
             "#9c179e"
            ],
            [
             0.4444444444444444,
             "#bd3786"
            ],
            [
             0.5555555555555556,
             "#d8576b"
            ],
            [
             0.6666666666666666,
             "#ed7953"
            ],
            [
             0.7777777777777778,
             "#fb9f3a"
            ],
            [
             0.8888888888888888,
             "#fdca26"
            ],
            [
             1,
             "#f0f921"
            ]
           ]
          },
          "colorway": [
           "#636efa",
           "#EF553B",
           "#00cc96",
           "#ab63fa",
           "#FFA15A",
           "#19d3f3",
           "#FF6692",
           "#B6E880",
           "#FF97FF",
           "#FECB52"
          ],
          "font": {
           "color": "#f2f5fa"
          },
          "geo": {
           "bgcolor": "rgb(17,17,17)",
           "lakecolor": "rgb(17,17,17)",
           "landcolor": "rgb(17,17,17)",
           "showlakes": true,
           "showland": true,
           "subunitcolor": "#506784"
          },
          "hoverlabel": {
           "align": "left"
          },
          "hovermode": "closest",
          "mapbox": {
           "style": "dark"
          },
          "paper_bgcolor": "rgb(17,17,17)",
          "plot_bgcolor": "rgb(17,17,17)",
          "polar": {
           "angularaxis": {
            "gridcolor": "#506784",
            "linecolor": "#506784",
            "ticks": ""
           },
           "bgcolor": "rgb(17,17,17)",
           "radialaxis": {
            "gridcolor": "#506784",
            "linecolor": "#506784",
            "ticks": ""
           }
          },
          "scene": {
           "xaxis": {
            "backgroundcolor": "rgb(17,17,17)",
            "gridcolor": "#506784",
            "gridwidth": 2,
            "linecolor": "#506784",
            "showbackground": true,
            "ticks": "",
            "zerolinecolor": "#C8D4E3"
           },
           "yaxis": {
            "backgroundcolor": "rgb(17,17,17)",
            "gridcolor": "#506784",
            "gridwidth": 2,
            "linecolor": "#506784",
            "showbackground": true,
            "ticks": "",
            "zerolinecolor": "#C8D4E3"
           },
           "zaxis": {
            "backgroundcolor": "rgb(17,17,17)",
            "gridcolor": "#506784",
            "gridwidth": 2,
            "linecolor": "#506784",
            "showbackground": true,
            "ticks": "",
            "zerolinecolor": "#C8D4E3"
           }
          },
          "shapedefaults": {
           "line": {
            "color": "#f2f5fa"
           }
          },
          "sliderdefaults": {
           "bgcolor": "#C8D4E3",
           "bordercolor": "rgb(17,17,17)",
           "borderwidth": 1,
           "tickwidth": 0
          },
          "ternary": {
           "aaxis": {
            "gridcolor": "#506784",
            "linecolor": "#506784",
            "ticks": ""
           },
           "baxis": {
            "gridcolor": "#506784",
            "linecolor": "#506784",
            "ticks": ""
           },
           "bgcolor": "rgb(17,17,17)",
           "caxis": {
            "gridcolor": "#506784",
            "linecolor": "#506784",
            "ticks": ""
           }
          },
          "title": {
           "x": 0.05
          },
          "updatemenudefaults": {
           "bgcolor": "#506784",
           "borderwidth": 0
          },
          "xaxis": {
           "automargin": true,
           "gridcolor": "#283442",
           "linecolor": "#506784",
           "ticks": "",
           "title": {
            "standoff": 15
           },
           "zerolinecolor": "#283442",
           "zerolinewidth": 2
          },
          "yaxis": {
           "automargin": true,
           "gridcolor": "#283442",
           "linecolor": "#506784",
           "ticks": "",
           "title": {
            "standoff": 15
           },
           "zerolinecolor": "#283442",
           "zerolinewidth": 2
          }
         }
        },
        "title": {
         "text": "Depressive and Anxiety Disorders by Country and Year"
        },
        "xaxis": {
         "anchor": "y",
         "domain": [
          0,
          1
         ],
         "title": {
          "text": "year"
         }
        },
        "yaxis": {
         "anchor": "x",
         "domain": [
          0,
          1
         ],
         "title": {
          "text": "pct_new_per_pop_disorders"
         }
        }
       }
      }
     },
     "metadata": {},
     "output_type": "display_data"
    }
   ],
   "source": [
    "fig = px.scatter(happy_sad_sugar_fish,\n",
    "           x='year',\n",
    "           y='pct_new_per_pop_disorders',\n",
    "           color='country',\n",
    "           title='Depressive and Anxiety Disorders by Country and Year',\n",
    "           template='plotly_dark')\n",
    "\n",
    "# toggle visibility off by default\n",
    "for trace in fig.data:\n",
    "    trace.visible = 'legendonly'\n",
    "    \n",
    "fig.show()"
   ]
  },
  {
   "cell_type": "code",
   "execution_count": 11,
   "metadata": {},
   "outputs": [
    {
     "ename": "ValueError",
     "evalue": "Value of 'x' is not the name of a column in 'data_frame'. Expected one of ['country', 'year', 'happiness_score', 'fish_kg_per_person_per_year', 'sugar_g_per_person_per_day', 'pct_new_per_pop_disorders'] but received: sugar_per_cap",
     "output_type": "error",
     "traceback": [
      "\u001b[0;31m---------------------------------------------------------------------------\u001b[0m",
      "\u001b[0;31mValueError\u001b[0m                                Traceback (most recent call last)",
      "Cell \u001b[0;32mIn[11], line 1\u001b[0m\n\u001b[0;32m----> 1\u001b[0m fig \u001b[38;5;241m=\u001b[39m px\u001b[38;5;241m.\u001b[39mscatter(happy_sad_sugar_fish,\n\u001b[1;32m      2\u001b[0m            x\u001b[38;5;241m=\u001b[39m\u001b[38;5;124m'\u001b[39m\u001b[38;5;124msugar_per_cap\u001b[39m\u001b[38;5;124m'\u001b[39m,\n\u001b[1;32m      3\u001b[0m            y\u001b[38;5;241m=\u001b[39m\u001b[38;5;124m'\u001b[39m\u001b[38;5;124mpct_new_per_pop_disorders\u001b[39m\u001b[38;5;124m'\u001b[39m,\n\u001b[1;32m      4\u001b[0m            color\u001b[38;5;241m=\u001b[39m\u001b[38;5;124m'\u001b[39m\u001b[38;5;124mcountry\u001b[39m\u001b[38;5;124m'\u001b[39m,\n\u001b[1;32m      5\u001b[0m            title\u001b[38;5;241m=\u001b[39m\u001b[38;5;124m'\u001b[39m\u001b[38;5;124mDepressive and Anxiety Disorders by Country and Year\u001b[39m\u001b[38;5;124m'\u001b[39m,\n\u001b[1;32m      6\u001b[0m            template\u001b[38;5;241m=\u001b[39m\u001b[38;5;124m'\u001b[39m\u001b[38;5;124mplotly_dark\u001b[39m\u001b[38;5;124m'\u001b[39m,\n\u001b[1;32m      7\u001b[0m            trendline \u001b[38;5;241m=\u001b[39m \u001b[38;5;124m'\u001b[39m\u001b[38;5;124mols\u001b[39m\u001b[38;5;124m'\u001b[39m, \n\u001b[1;32m      8\u001b[0m            trendline_color_override\u001b[38;5;241m=\u001b[39m\u001b[38;5;124m'\u001b[39m\u001b[38;5;124mred\u001b[39m\u001b[38;5;124m'\u001b[39m)\n\u001b[1;32m     10\u001b[0m \u001b[38;5;66;03m# toggle visibility off by default\u001b[39;00m\n\u001b[1;32m     11\u001b[0m \u001b[38;5;28;01mfor\u001b[39;00m trace \u001b[38;5;129;01min\u001b[39;00m fig\u001b[38;5;241m.\u001b[39mdata:\n",
      "File \u001b[0;32m/opt/anaconda3/lib/python3.12/site-packages/plotly/express/_chart_types.py:66\u001b[0m, in \u001b[0;36mscatter\u001b[0;34m(data_frame, x, y, color, symbol, size, hover_name, hover_data, custom_data, text, facet_row, facet_col, facet_col_wrap, facet_row_spacing, facet_col_spacing, error_x, error_x_minus, error_y, error_y_minus, animation_frame, animation_group, category_orders, labels, orientation, color_discrete_sequence, color_discrete_map, color_continuous_scale, range_color, color_continuous_midpoint, symbol_sequence, symbol_map, opacity, size_max, marginal_x, marginal_y, trendline, trendline_options, trendline_color_override, trendline_scope, log_x, log_y, range_x, range_y, render_mode, title, template, width, height)\u001b[0m\n\u001b[1;32m     12\u001b[0m \u001b[38;5;28;01mdef\u001b[39;00m \u001b[38;5;21mscatter\u001b[39m(\n\u001b[1;32m     13\u001b[0m     data_frame\u001b[38;5;241m=\u001b[39m\u001b[38;5;28;01mNone\u001b[39;00m,\n\u001b[1;32m     14\u001b[0m     x\u001b[38;5;241m=\u001b[39m\u001b[38;5;28;01mNone\u001b[39;00m,\n\u001b[0;32m   (...)\u001b[0m\n\u001b[1;32m     60\u001b[0m     height\u001b[38;5;241m=\u001b[39m\u001b[38;5;28;01mNone\u001b[39;00m,\n\u001b[1;32m     61\u001b[0m ) \u001b[38;5;241m-\u001b[39m\u001b[38;5;241m>\u001b[39m go\u001b[38;5;241m.\u001b[39mFigure:\n\u001b[1;32m     62\u001b[0m \u001b[38;5;250m    \u001b[39m\u001b[38;5;124;03m\"\"\"\u001b[39;00m\n\u001b[1;32m     63\u001b[0m \u001b[38;5;124;03m    In a scatter plot, each row of `data_frame` is represented by a symbol\u001b[39;00m\n\u001b[1;32m     64\u001b[0m \u001b[38;5;124;03m    mark in 2D space.\u001b[39;00m\n\u001b[1;32m     65\u001b[0m \u001b[38;5;124;03m    \"\"\"\u001b[39;00m\n\u001b[0;32m---> 66\u001b[0m     \u001b[38;5;28;01mreturn\u001b[39;00m make_figure(args\u001b[38;5;241m=\u001b[39m\u001b[38;5;28mlocals\u001b[39m(), constructor\u001b[38;5;241m=\u001b[39mgo\u001b[38;5;241m.\u001b[39mScatter)\n",
      "File \u001b[0;32m/opt/anaconda3/lib/python3.12/site-packages/plotly/express/_core.py:2090\u001b[0m, in \u001b[0;36mmake_figure\u001b[0;34m(args, constructor, trace_patch, layout_patch)\u001b[0m\n\u001b[1;32m   2087\u001b[0m layout_patch \u001b[38;5;241m=\u001b[39m layout_patch \u001b[38;5;129;01mor\u001b[39;00m {}\n\u001b[1;32m   2088\u001b[0m apply_default_cascade(args)\n\u001b[0;32m-> 2090\u001b[0m args \u001b[38;5;241m=\u001b[39m build_dataframe(args, constructor)\n\u001b[1;32m   2091\u001b[0m \u001b[38;5;28;01mif\u001b[39;00m constructor \u001b[38;5;129;01min\u001b[39;00m [go\u001b[38;5;241m.\u001b[39mTreemap, go\u001b[38;5;241m.\u001b[39mSunburst, go\u001b[38;5;241m.\u001b[39mIcicle] \u001b[38;5;129;01mand\u001b[39;00m args[\u001b[38;5;124m\"\u001b[39m\u001b[38;5;124mpath\u001b[39m\u001b[38;5;124m\"\u001b[39m] \u001b[38;5;129;01mis\u001b[39;00m \u001b[38;5;129;01mnot\u001b[39;00m \u001b[38;5;28;01mNone\u001b[39;00m:\n\u001b[1;32m   2092\u001b[0m     args \u001b[38;5;241m=\u001b[39m process_dataframe_hierarchy(args)\n",
      "File \u001b[0;32m/opt/anaconda3/lib/python3.12/site-packages/plotly/express/_core.py:1492\u001b[0m, in \u001b[0;36mbuild_dataframe\u001b[0;34m(args, constructor)\u001b[0m\n\u001b[1;32m   1489\u001b[0m     args[\u001b[38;5;124m\"\u001b[39m\u001b[38;5;124mcolor\u001b[39m\u001b[38;5;124m\"\u001b[39m] \u001b[38;5;241m=\u001b[39m \u001b[38;5;28;01mNone\u001b[39;00m\n\u001b[1;32m   1490\u001b[0m \u001b[38;5;66;03m# now that things have been prepped, we do the systematic rewriting of `args`\u001b[39;00m\n\u001b[0;32m-> 1492\u001b[0m df_output, wide_id_vars \u001b[38;5;241m=\u001b[39m process_args_into_dataframe(\n\u001b[1;32m   1493\u001b[0m     args, wide_mode, var_name, value_name\n\u001b[1;32m   1494\u001b[0m )\n\u001b[1;32m   1496\u001b[0m \u001b[38;5;66;03m# now that `df_output` exists and `args` contains only references, we complete\u001b[39;00m\n\u001b[1;32m   1497\u001b[0m \u001b[38;5;66;03m# the special-case and wide-mode handling by further rewriting args and/or mutating\u001b[39;00m\n\u001b[1;32m   1498\u001b[0m \u001b[38;5;66;03m# df_output\u001b[39;00m\n\u001b[1;32m   1500\u001b[0m count_name \u001b[38;5;241m=\u001b[39m _escape_col_name(df_output, \u001b[38;5;124m\"\u001b[39m\u001b[38;5;124mcount\u001b[39m\u001b[38;5;124m\"\u001b[39m, [var_name, value_name])\n",
      "File \u001b[0;32m/opt/anaconda3/lib/python3.12/site-packages/plotly/express/_core.py:1213\u001b[0m, in \u001b[0;36mprocess_args_into_dataframe\u001b[0;34m(args, wide_mode, var_name, value_name)\u001b[0m\n\u001b[1;32m   1211\u001b[0m         \u001b[38;5;28;01mif\u001b[39;00m argument \u001b[38;5;241m==\u001b[39m \u001b[38;5;124m\"\u001b[39m\u001b[38;5;124mindex\u001b[39m\u001b[38;5;124m\"\u001b[39m:\n\u001b[1;32m   1212\u001b[0m             err_msg \u001b[38;5;241m+\u001b[39m\u001b[38;5;241m=\u001b[39m \u001b[38;5;124m\"\u001b[39m\u001b[38;5;130;01m\\n\u001b[39;00m\u001b[38;5;124m To use the index, pass it in directly as `df.index`.\u001b[39m\u001b[38;5;124m\"\u001b[39m\n\u001b[0;32m-> 1213\u001b[0m         \u001b[38;5;28;01mraise\u001b[39;00m \u001b[38;5;167;01mValueError\u001b[39;00m(err_msg)\n\u001b[1;32m   1214\u001b[0m \u001b[38;5;28;01melif\u001b[39;00m length \u001b[38;5;129;01mand\u001b[39;00m \u001b[38;5;28mlen\u001b[39m(df_input[argument]) \u001b[38;5;241m!=\u001b[39m length:\n\u001b[1;32m   1215\u001b[0m     \u001b[38;5;28;01mraise\u001b[39;00m \u001b[38;5;167;01mValueError\u001b[39;00m(\n\u001b[1;32m   1216\u001b[0m         \u001b[38;5;124m\"\u001b[39m\u001b[38;5;124mAll arguments should have the same length. \u001b[39m\u001b[38;5;124m\"\u001b[39m\n\u001b[1;32m   1217\u001b[0m         \u001b[38;5;124m\"\u001b[39m\u001b[38;5;124mThe length of column argument `df[\u001b[39m\u001b[38;5;132;01m%s\u001b[39;00m\u001b[38;5;124m]` is \u001b[39m\u001b[38;5;132;01m%d\u001b[39;00m\u001b[38;5;124m, whereas the \u001b[39m\u001b[38;5;124m\"\u001b[39m\n\u001b[0;32m   (...)\u001b[0m\n\u001b[1;32m   1224\u001b[0m         )\n\u001b[1;32m   1225\u001b[0m     )\n",
      "\u001b[0;31mValueError\u001b[0m: Value of 'x' is not the name of a column in 'data_frame'. Expected one of ['country', 'year', 'happiness_score', 'fish_kg_per_person_per_year', 'sugar_g_per_person_per_day', 'pct_new_per_pop_disorders'] but received: sugar_per_cap"
     ]
    }
   ],
   "source": [
    "fig = px.scatter(happy_sad_sugar_fish,\n",
    "           x='sugar_per_cap',\n",
    "           y='pct_new_per_pop_disorders',\n",
    "           color='country',\n",
    "           title='Depressive and Anxiety Disorders by Country and Year',\n",
    "           template='plotly_dark',\n",
    "           trendline = 'ols', \n",
    "           trendline_color_override='red')\n",
    "\n",
    "# toggle visibility off by default\n",
    "for trace in fig.data:\n",
    "    trace.visible = 'legendonly'\n",
    "    \n",
    "fig.show()"
   ]
  }
 ],
 "metadata": {
  "kernelspec": {
   "display_name": "base",
   "language": "python",
   "name": "python3"
  },
  "language_info": {
   "codemirror_mode": {
    "name": "ipython",
    "version": 3
   },
   "file_extension": ".py",
   "mimetype": "text/x-python",
   "name": "python",
   "nbconvert_exporter": "python",
   "pygments_lexer": "ipython3",
   "version": "3.12.4"
  }
 },
 "nbformat": 4,
 "nbformat_minor": 2
}
